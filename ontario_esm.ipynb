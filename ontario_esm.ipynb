{
  "cells": [
    {
      "cell_type": "markdown",
      "metadata": {
        "id": "gC24F0dWEtOQ"
      },
      "source": [
        "# An oversimplified energy system model"
      ]
    },
    {
      "cell_type": "code",
      "execution_count": 1,
      "metadata": {
        "id": "H2sja_0KEyxK"
      },
      "outputs": [],
      "source": [
        "import pyomo.environ as pyo\n",
        "import pandas as pd\n",
        "import plotly.express as px"
      ]
    },
    {
      "cell_type": "markdown",
      "metadata": {},
      "source": [
        "## Function definitions"
      ]
    },
    {
      "cell_type": "code",
      "execution_count": 2,
      "metadata": {},
      "outputs": [],
      "source": [
        "def model_vars_as_dfs(model, debug=False) -> dict[str, pd.DataFrame]:\n",
        "    df_dict = {}\n",
        "    # loop over all variables\n",
        "    for m_var in model.component_objects(pyo.Var, active=True):\n",
        "        # store values in a series\n",
        "        var_values = pd.Series(m_var.get_values())\n",
        "\n",
        "        # get names of indices\n",
        "        subsets = list(m_var.index_set().subsets())\n",
        "        subset_names = [x.name for x in subsets]\n",
        "\n",
        "        # print information if desired\n",
        "        if debug:\n",
        "            print(f\"{m_var} is indexed in {subset_names}\")\n",
        "\n",
        "        # transform to dataframe and store in dictionary\n",
        "        df = var_values.to_frame().reset_index()\n",
        "        df.columns = subset_names + [\"value\"]\n",
        "        df_dict[f\"{m_var}\"] = df.copy()\n",
        "\n",
        "    return df_dict"
      ]
    },
    {
      "cell_type": "markdown",
      "metadata": {
        "id": "2Kn-mtvIItYA"
      },
      "source": [
        "## gather time series"
      ]
    },
    {
      "cell_type": "code",
      "execution_count": 3,
      "metadata": {
        "colab": {
          "base_uri": "https://localhost:8080/",
          "height": 261
        },
        "id": "5PVDbCCuItKc",
        "outputId": "17bb3d44-0aa2-433f-a664-ad693b7a84d5"
      },
      "outputs": [
        {
          "data": {
            "text/html": [
              "<div>\n",
              "<style scoped>\n",
              "    .dataframe tbody tr th:only-of-type {\n",
              "        vertical-align: middle;\n",
              "    }\n",
              "\n",
              "    .dataframe tbody tr th {\n",
              "        vertical-align: top;\n",
              "    }\n",
              "\n",
              "    .dataframe thead th {\n",
              "        text-align: right;\n",
              "    }\n",
              "</style>\n",
              "<table border=\"1\" class=\"dataframe\">\n",
              "  <thead>\n",
              "    <tr style=\"text-align: right;\">\n",
              "      <th></th>\n",
              "      <th>time</th>\n",
              "      <th>P</th>\n",
              "      <th>Gb(i)</th>\n",
              "      <th>Gd(i)</th>\n",
              "      <th>Gr(i)</th>\n",
              "      <th>H_sun</th>\n",
              "      <th>T2m</th>\n",
              "      <th>WS10m</th>\n",
              "      <th>Int</th>\n",
              "      <th>cf</th>\n",
              "    </tr>\n",
              "  </thead>\n",
              "  <tbody>\n",
              "    <tr>\n",
              "      <th>0</th>\n",
              "      <td>20140101:0000</td>\n",
              "      <td>0.0</td>\n",
              "      <td>0.0</td>\n",
              "      <td>0.0</td>\n",
              "      <td>0.0</td>\n",
              "      <td>0.0</td>\n",
              "      <td>-9.60</td>\n",
              "      <td>7.52</td>\n",
              "      <td>0.0</td>\n",
              "      <td>0.0</td>\n",
              "    </tr>\n",
              "    <tr>\n",
              "      <th>1</th>\n",
              "      <td>20140101:0100</td>\n",
              "      <td>0.0</td>\n",
              "      <td>0.0</td>\n",
              "      <td>0.0</td>\n",
              "      <td>0.0</td>\n",
              "      <td>0.0</td>\n",
              "      <td>-9.73</td>\n",
              "      <td>6.90</td>\n",
              "      <td>0.0</td>\n",
              "      <td>0.0</td>\n",
              "    </tr>\n",
              "    <tr>\n",
              "      <th>2</th>\n",
              "      <td>20140101:0200</td>\n",
              "      <td>0.0</td>\n",
              "      <td>0.0</td>\n",
              "      <td>0.0</td>\n",
              "      <td>0.0</td>\n",
              "      <td>0.0</td>\n",
              "      <td>-9.70</td>\n",
              "      <td>6.41</td>\n",
              "      <td>0.0</td>\n",
              "      <td>0.0</td>\n",
              "    </tr>\n",
              "    <tr>\n",
              "      <th>3</th>\n",
              "      <td>20140101:0300</td>\n",
              "      <td>0.0</td>\n",
              "      <td>0.0</td>\n",
              "      <td>0.0</td>\n",
              "      <td>0.0</td>\n",
              "      <td>0.0</td>\n",
              "      <td>-9.61</td>\n",
              "      <td>6.62</td>\n",
              "      <td>0.0</td>\n",
              "      <td>0.0</td>\n",
              "    </tr>\n",
              "    <tr>\n",
              "      <th>4</th>\n",
              "      <td>20140101:0400</td>\n",
              "      <td>0.0</td>\n",
              "      <td>0.0</td>\n",
              "      <td>0.0</td>\n",
              "      <td>0.0</td>\n",
              "      <td>0.0</td>\n",
              "      <td>-9.53</td>\n",
              "      <td>6.62</td>\n",
              "      <td>0.0</td>\n",
              "      <td>0.0</td>\n",
              "    </tr>\n",
              "  </tbody>\n",
              "</table>\n",
              "</div>"
            ],
            "text/plain": [
              "            time    P  Gb(i)  Gd(i)  Gr(i)  H_sun   T2m  WS10m  Int   cf\n",
              "0  20140101:0000  0.0    0.0    0.0    0.0    0.0 -9.60   7.52  0.0  0.0\n",
              "1  20140101:0100  0.0    0.0    0.0    0.0    0.0 -9.73   6.90  0.0  0.0\n",
              "2  20140101:0200  0.0    0.0    0.0    0.0    0.0 -9.70   6.41  0.0  0.0\n",
              "3  20140101:0300  0.0    0.0    0.0    0.0    0.0 -9.61   6.62  0.0  0.0\n",
              "4  20140101:0400  0.0    0.0    0.0    0.0    0.0 -9.53   6.62  0.0  0.0"
            ]
          },
          "execution_count": 3,
          "metadata": {},
          "output_type": "execute_result"
        }
      ],
      "source": [
        "# Toronto:\n",
        "lat, lon =43.712148, -79.304524\n",
        "pv_peak_power = 1\n",
        "url = f\"https://re.jrc.ec.europa.eu/api/v5_2/seriescalc?lat={lat}&lon={lon}&raddatabase=PVGIS-NSRDB&browser=1&outputformat=csv&userhorizon=&usehorizon=1&angle=&aspect=&startyear=2014&endyear=2014&mountingplace=free&optimalinclination=0&optimalangles=1&js=1&select_database_hourly=PVGIS-NSRDB&hstartyear=2014&hendyear=2014&trackingtype=0&hourlyoptimalangles=1&pvcalculation=1&pvtechchoice=crystSi&peakpower={pv_peak_power}&loss=0&components=1\"\n",
        "solar_data = pd.read_csv(url, header=8)\n",
        "\n",
        "# clear values that are not available\n",
        "na = solar_data[\"T2m\"].isna()\n",
        "solar_data = solar_data.loc[~na,:]\n",
        "solar_data.loc[:,\"P\":] = solar_data.loc[:,\"P\":].astype(float)\n",
        "solar_data[\"cf\"] = solar_data[\"P\"] / (pv_peak_power*1000)\n",
        "solar_data.head()\n"
      ]
    },
    {
      "cell_type": "code",
      "execution_count": 4,
      "metadata": {
        "colab": {
          "base_uri": "https://localhost:8080/",
          "height": 742
        },
        "id": "vArcQfuHQNsP",
        "outputId": "bcac15bb-04e7-429b-a37a-b2c8fcd4d7f6"
      },
      "outputs": [],
      "source": [
        "eff_df = solar_data[\"cf\"].to_frame()\n",
        "eff_df.loc[:,\"coal\"] = 0.38\n",
        "eff_df.loc[:,\"gas\"] = 0.5\n",
        "eff_df.rename({\"cf\":\"pv\"}, axis=1, inplace=True)\n"
      ]
    },
    {
      "cell_type": "code",
      "execution_count": 5,
      "metadata": {
        "id": "xIqoAplNU8k3"
      },
      "outputs": [],
      "source": [
        "eff_df_long = eff_df.melt(ignore_index=False).reset_index().set_index([\"variable\",\"index\"])\n",
        "eff_df_long = eff_df_long.sort_index()"
      ]
    },
    {
      "cell_type": "code",
      "execution_count": 6,
      "metadata": {
        "colab": {
          "base_uri": "https://localhost:8080/",
          "height": 206
        },
        "id": "YJZoZdwcFYKA",
        "outputId": "6c603196-4901-4c91-b97a-c503d04678e1"
      },
      "outputs": [
        {
          "data": {
            "text/html": [
              "<div>\n",
              "<style scoped>\n",
              "    .dataframe tbody tr th:only-of-type {\n",
              "        vertical-align: middle;\n",
              "    }\n",
              "\n",
              "    .dataframe tbody tr th {\n",
              "        vertical-align: top;\n",
              "    }\n",
              "\n",
              "    .dataframe thead th {\n",
              "        text-align: right;\n",
              "    }\n",
              "</style>\n",
              "<table border=\"1\" class=\"dataframe\">\n",
              "  <thead>\n",
              "    <tr style=\"text-align: right;\">\n",
              "      <th></th>\n",
              "      <th>Date</th>\n",
              "      <th>Hour</th>\n",
              "      <th>Market Demand</th>\n",
              "      <th>Ontario Demand</th>\n",
              "    </tr>\n",
              "  </thead>\n",
              "  <tbody>\n",
              "    <tr>\n",
              "      <th>8755</th>\n",
              "      <td>2014-12-31</td>\n",
              "      <td>20</td>\n",
              "      <td>21226</td>\n",
              "      <td>18010</td>\n",
              "    </tr>\n",
              "    <tr>\n",
              "      <th>8756</th>\n",
              "      <td>2014-12-31</td>\n",
              "      <td>21</td>\n",
              "      <td>20404</td>\n",
              "      <td>17294</td>\n",
              "    </tr>\n",
              "    <tr>\n",
              "      <th>8757</th>\n",
              "      <td>2014-12-31</td>\n",
              "      <td>22</td>\n",
              "      <td>19710</td>\n",
              "      <td>16759</td>\n",
              "    </tr>\n",
              "    <tr>\n",
              "      <th>8758</th>\n",
              "      <td>2014-12-31</td>\n",
              "      <td>23</td>\n",
              "      <td>19167</td>\n",
              "      <td>16123</td>\n",
              "    </tr>\n",
              "    <tr>\n",
              "      <th>8759</th>\n",
              "      <td>2014-12-31</td>\n",
              "      <td>24</td>\n",
              "      <td>18614</td>\n",
              "      <td>15469</td>\n",
              "    </tr>\n",
              "  </tbody>\n",
              "</table>\n",
              "</div>"
            ],
            "text/plain": [
              "            Date  Hour  Market Demand  Ontario Demand\n",
              "8755  2014-12-31    20          21226           18010\n",
              "8756  2014-12-31    21          20404           17294\n",
              "8757  2014-12-31    22          19710           16759\n",
              "8758  2014-12-31    23          19167           16123\n",
              "8759  2014-12-31    24          18614           15469"
            ]
          },
          "execution_count": 6,
          "metadata": {},
          "output_type": "execute_result"
        }
      ],
      "source": [
        "\n",
        "ontario_demand = pd.read_csv(\"http://reports.ieso.ca/public/Demand/PUB_Demand_2014.csv\", header=3)\n",
        "\n",
        "\n",
        "# ontario_demand[\"Ontario Demand\"] *= 1/ontario_demand[\"Ontario Demand\"].sum()\n",
        "ontario_demand.tail()\n"
      ]
    },
    {
      "cell_type": "code",
      "execution_count": 7,
      "metadata": {},
      "outputs": [],
      "source": [
        "import numpy as np\n",
        "random_demand = np.random.random(len(ontario_demand[\"Ontario Demand\"])) * max(ontario_demand[\"Ontario Demand\"])\n",
        "# ontario_demand[\"Ontario Demand\"] += random_demand"
      ]
    },
    {
      "cell_type": "markdown",
      "metadata": {},
      "source": [
        "# Model definition"
      ]
    },
    {
      "cell_type": "code",
      "execution_count": 8,
      "metadata": {
        "colab": {
          "base_uri": "https://localhost:8080/"
        },
        "id": "YxpZ5qrTHxg7",
        "outputId": "2ff6e4bb-e0af-4bfb-bbb9-a4c61aced32f"
      },
      "outputs": [],
      "source": [
        "esm = pyo.ConcreteModel(\"Oversimplified ontario electricity model\")\n",
        "\n",
        "t_start = 3000\n",
        "t_end = t_start + 12*24\n",
        "\n",
        "esm.hour = pyo.RangeSet(t_start, t_end)\n",
        "esm.gen_types = pyo.Set(initialize=[\"pv\", \"coal\", \"gas\"])\n",
        "\n",
        "esm.demand = pyo.Param(esm.hour, initialize=ontario_demand.loc[t_start:t_end,\"Ontario Demand\"].to_dict(), within=pyo.NonNegativeReals)\n",
        "esm.cf = pyo.Param(esm.hour, initialize=solar_data.loc[t_start:t_end,\"cf\"].to_dict(), within=pyo.NonNegativeReals)\n",
        "esm.fuel_cost = pyo.Param(esm.gen_types, initialize={\"pv\":0, \"coal\":207, \"gas\":309})\n",
        "esm.inv_cost = pyo.Param(esm.gen_types, initialize={\"pv\":1201, \"coal\":502, \"gas\":203})\n",
        "esm.efficiency = pyo.Param(esm.gen_types, esm.hour, initialize=eff_df_long.loc[:,t_start:t_end,:].to_dict()[\"value\"])\n",
        "\n",
        "\n",
        "esm.generation = pyo.Var(esm.gen_types, esm.hour, within=pyo.NonNegativeReals)\n",
        "# if invest:\n",
        "esm.capacity = pyo.Var(esm.gen_types, within=pyo.NonNegativeReals)\n",
        "# else:\n",
        "# esm.capacity = pyo.Param(esm.gen_types, initialize={'pv': 584261.407579273, 'coal': 54650.0, 'gas': 1018.0})\n",
        "\n",
        "demand_response=False\n",
        "\n",
        "if demand_response:\n",
        "    esm.demand_shift_up = pyo.Var(esm.hour, within=pyo.NonNegativeReals, bounds=(0,3000))\n",
        "    esm.demand_shift_down = pyo.Var(esm.hour, within=pyo.NonNegativeReals, bounds=(0,3000))\n"
      ]
    },
    {
      "cell_type": "markdown",
      "metadata": {},
      "source": [
        "## constraints"
      ]
    },
    {
      "cell_type": "code",
      "execution_count": 9,
      "metadata": {
        "id": "K6Zb94wZNALx"
      },
      "outputs": [],
      "source": [
        "\n",
        "# energy balance\n",
        "def balance(m, h):\n",
        "  if demand_response:\n",
        "    return  m.demand[h] <= sum(m.generation[gt, h] for gt in m.gen_types) - m.demand_shift_up[h] + m.demand_shift_down[h]\n",
        "  else:\n",
        "    return  m.demand[h] <= sum(m.generation[gt, h] for gt in m.gen_types)\n",
        "\n",
        "if hasattr(esm,\"balance_constraint\"):\n",
        "  esm.del_component(\"balance_constraint\")\n",
        "esm.balance_constraint = pyo.Constraint(esm.hour, rule=balance)\n",
        "\n",
        "\n",
        "if demand_response:\n",
        "  def demand_response_constraint(m,h):\n",
        "    # print(h,h+1 in m.hour)\n",
        "    return sum(m.demand_shift_up[h-i] for i in range(4) if h-i in m.hour) == sum(m.demand_shift_down[h+i] for i in range(4) if h+i in m.hour)\n",
        "  esm.dr_constraint = pyo.Constraint(esm.hour, rule=demand_response_constraint)\n",
        "\n",
        "\n",
        "\n",
        "# capacity constraint\n",
        "def cap_const(m, h, gt):\n",
        "  return m.generation[gt, h] <= m.capacity[gt] * m.efficiency[gt, h]\n",
        "esm.capacity_constraint = pyo.Constraint(esm.hour, esm.gen_types, rule=cap_const)\n",
        "\n",
        "# pv limit\n",
        "def pv_cap_constr(m,):\n",
        "  return m.capacity[\"pv\"] <= 30000\n",
        "esm.pv_limit = pyo.Constraint(rule=pv_cap_constr)\n",
        "\n",
        "def gen_share_limit(m, gt, limit):\n",
        "  return sum(m.generation[gt, h] for h in m.hour)/ sum(m.demand[h] for h in m.hour) <= limit\n",
        "\n",
        "coal_limit = False\n",
        "if coal_limit:\n",
        "  esm.coal_limit = pyo.Constraint([\"coal\"], [0.5], rule=gen_share_limit)\n",
        "\n",
        "\n",
        "def cost(m,):\n",
        "  return sum(m.generation[gt,h]*m.fuel_cost[gt] for gt in m.gen_types for h in m.hour) + \\\n",
        "    sum(m.capacity[gt] * m.inv_cost[gt] for gt in m.gen_types)\n",
        "\n",
        "if hasattr(esm,\"objective\"):\n",
        "  esm.del_component(\"objective\")\n",
        "esm.objective = pyo.Objective(rule=cost)\n"
      ]
    },
    {
      "cell_type": "code",
      "execution_count": 10,
      "metadata": {
        "id": "URrL3O2jZBYQ"
      },
      "outputs": [],
      "source": [
        "esm.dual = pyo.Suffix(direction=pyo.Suffix.IMPORT)\n",
        "opt = pyo.SolverFactory(\"gurobi\")\n",
        "result = opt.solve(esm)\n",
        "opt_vars = model_vars_as_dfs(esm)\n",
        "\n",
        "dual_dfs = {}\n",
        "\n",
        "# f.write(\"eq,year,hour,node,dual_price\\n\")\n",
        "duals_of_interest = [\"balance_constraint\"]\n",
        "for c in esm.component_objects(pyo.Constraint, active=True):\n",
        "    # export only the marginals of constraints in that list\n",
        "    print(c)\n",
        "    vals = {}\n",
        "    if str(c) in duals_of_interest:\n",
        "        for index in c:\n",
        "            vals[index] = esm.dual[c[index]]\n",
        "    dual_df = pd.DataFrame(vals.values(), index=vals.keys(), columns=[\"dual\"])\n",
        "    dual_dfs[f\"{c}\"] = dual_df\n"
      ]
    },
    {
      "cell_type": "code",
      "execution_count": 12,
      "metadata": {},
      "outputs": [
        {
          "data": {
            "text/plain": [
              "600721720.5105265"
            ]
          },
          "execution_count": 12,
          "metadata": {},
          "output_type": "execute_result"
        }
      ],
      "source": [
        "pyo.value(esm.objective)\n",
        "# 15514472240.481754\n",
        "#     1015756.107998 (sum of marginals)\n",
        "# so with all demand + 1 should be:\n",
        "# ontario_demand[\"Ontario Demand\"] += 1\n",
        "# 15515487996... \n",
        "# and it is!! (for coal_limit=False )\n",
        "# 15515487996.589754"
      ]
    },
    {
      "cell_type": "code",
      "execution_count": 14,
      "metadata": {},
      "outputs": [
        {
          "data": {
            "application/vnd.plotly.v1+json": {
              "config": {
                "plotlyServerURL": "https://plot.ly"
              },
              "data": [
                {
                  "customdata": [
                    [
                      3226
                    ],
                    [
                      3250
                    ],
                    [
                      3225
                    ],
                    [
                      3248
                    ],
                    [
                      3247
                    ],
                    [
                      3202
                    ],
                    [
                      3227
                    ],
                    [
                      3249
                    ],
                    [
                      3224
                    ],
                    [
                      3206
                    ],
                    [
                      3196
                    ],
                    [
                      3212
                    ],
                    [
                      3211
                    ],
                    [
                      3183
                    ],
                    [
                      3184
                    ],
                    [
                      3189
                    ],
                    [
                      3190
                    ],
                    [
                      3191
                    ],
                    [
                      3192
                    ],
                    [
                      3193
                    ],
                    [
                      3194
                    ],
                    [
                      3195
                    ],
                    [
                      3197
                    ],
                    [
                      3198
                    ],
                    [
                      3199
                    ],
                    [
                      3200
                    ],
                    [
                      3214
                    ],
                    [
                      3210
                    ],
                    [
                      3203
                    ],
                    [
                      3204
                    ],
                    [
                      3205
                    ],
                    [
                      3209
                    ],
                    [
                      3208
                    ],
                    [
                      3207
                    ],
                    [
                      3201
                    ],
                    [
                      3000
                    ],
                    [
                      3182
                    ],
                    [
                      3151
                    ],
                    [
                      3157
                    ],
                    [
                      3156
                    ],
                    [
                      3155
                    ],
                    [
                      3154
                    ],
                    [
                      3153
                    ],
                    [
                      3152
                    ],
                    [
                      3150
                    ],
                    [
                      3181
                    ],
                    [
                      3149
                    ],
                    [
                      3148
                    ],
                    [
                      3147
                    ],
                    [
                      3146
                    ],
                    [
                      3145
                    ],
                    [
                      3001
                    ],
                    [
                      3164
                    ],
                    [
                      3165
                    ],
                    [
                      3166
                    ],
                    [
                      3167
                    ],
                    [
                      3168
                    ],
                    [
                      3169
                    ],
                    [
                      3170
                    ],
                    [
                      3171
                    ],
                    [
                      3172
                    ],
                    [
                      3173
                    ],
                    [
                      3174
                    ],
                    [
                      3175
                    ],
                    [
                      3176
                    ],
                    [
                      3177
                    ],
                    [
                      3178
                    ],
                    [
                      3179
                    ],
                    [
                      3180
                    ],
                    [
                      3213
                    ],
                    [
                      3219
                    ],
                    [
                      3215
                    ],
                    [
                      3272
                    ],
                    [
                      3256
                    ],
                    [
                      3260
                    ],
                    [
                      3261
                    ],
                    [
                      3262
                    ],
                    [
                      3263
                    ],
                    [
                      3264
                    ],
                    [
                      3265
                    ],
                    [
                      3266
                    ],
                    [
                      3267
                    ],
                    [
                      3268
                    ],
                    [
                      3269
                    ],
                    [
                      3270
                    ],
                    [
                      3271
                    ],
                    [
                      3273
                    ],
                    [
                      3216
                    ],
                    [
                      3274
                    ],
                    [
                      3275
                    ],
                    [
                      3276
                    ],
                    [
                      3277
                    ],
                    [
                      3278
                    ],
                    [
                      3279
                    ],
                    [
                      3280
                    ],
                    [
                      3281
                    ],
                    [
                      3282
                    ],
                    [
                      3283
                    ],
                    [
                      3285
                    ],
                    [
                      3286
                    ],
                    [
                      3287
                    ],
                    [
                      3255
                    ],
                    [
                      3254
                    ],
                    [
                      3253
                    ],
                    [
                      3252
                    ],
                    [
                      3217
                    ],
                    [
                      3218
                    ],
                    [
                      3142
                    ],
                    [
                      3220
                    ],
                    [
                      3221
                    ],
                    [
                      3222
                    ],
                    [
                      3223
                    ],
                    [
                      3228
                    ],
                    [
                      3229
                    ],
                    [
                      3230
                    ],
                    [
                      3231
                    ],
                    [
                      3232
                    ],
                    [
                      3233
                    ],
                    [
                      3234
                    ],
                    [
                      3235
                    ],
                    [
                      3236
                    ],
                    [
                      3237
                    ],
                    [
                      3238
                    ],
                    [
                      3239
                    ],
                    [
                      3240
                    ],
                    [
                      3241
                    ],
                    [
                      3242
                    ],
                    [
                      3243
                    ],
                    [
                      3244
                    ],
                    [
                      3245
                    ],
                    [
                      3246
                    ],
                    [
                      3251
                    ],
                    [
                      3143
                    ],
                    [
                      3144
                    ],
                    [
                      3074
                    ],
                    [
                      3086
                    ],
                    [
                      3048
                    ],
                    [
                      3049
                    ],
                    [
                      3050
                    ],
                    [
                      3051
                    ],
                    [
                      3052
                    ],
                    [
                      3053
                    ],
                    [
                      3054
                    ],
                    [
                      3055
                    ],
                    [
                      3056
                    ],
                    [
                      3057
                    ],
                    [
                      3058
                    ],
                    [
                      3059
                    ],
                    [
                      3060
                    ],
                    [
                      3061
                    ],
                    [
                      3069
                    ],
                    [
                      3070
                    ],
                    [
                      3071
                    ],
                    [
                      3072
                    ],
                    [
                      3073
                    ],
                    [
                      3075
                    ],
                    [
                      3076
                    ],
                    [
                      3077
                    ],
                    [
                      3078
                    ],
                    [
                      3079
                    ],
                    [
                      3080
                    ],
                    [
                      3081
                    ],
                    [
                      3082
                    ],
                    [
                      3083
                    ],
                    [
                      3084
                    ],
                    [
                      3047
                    ],
                    [
                      3046
                    ],
                    [
                      3045
                    ],
                    [
                      3022
                    ],
                    [
                      3002
                    ],
                    [
                      3003
                    ],
                    [
                      3004
                    ],
                    [
                      3005
                    ],
                    [
                      3006
                    ],
                    [
                      3007
                    ],
                    [
                      3008
                    ],
                    [
                      3009
                    ],
                    [
                      3010
                    ],
                    [
                      3011
                    ],
                    [
                      3012
                    ],
                    [
                      3013
                    ],
                    [
                      3015
                    ],
                    [
                      3023
                    ],
                    [
                      3037
                    ],
                    [
                      3024
                    ],
                    [
                      3025
                    ],
                    [
                      3026
                    ],
                    [
                      3027
                    ],
                    [
                      3028
                    ],
                    [
                      3029
                    ],
                    [
                      3030
                    ],
                    [
                      3031
                    ],
                    [
                      3032
                    ],
                    [
                      3033
                    ],
                    [
                      3034
                    ],
                    [
                      3035
                    ],
                    [
                      3036
                    ],
                    [
                      3085
                    ],
                    [
                      3288
                    ],
                    [
                      3102
                    ],
                    [
                      3109
                    ],
                    [
                      3100
                    ],
                    [
                      3101
                    ],
                    [
                      3103
                    ],
                    [
                      3104
                    ],
                    [
                      3105
                    ],
                    [
                      3106
                    ],
                    [
                      3107
                    ],
                    [
                      3108
                    ],
                    [
                      3126
                    ],
                    [
                      3128
                    ],
                    [
                      3125
                    ],
                    [
                      3124
                    ],
                    [
                      3123
                    ],
                    [
                      3122
                    ],
                    [
                      3121
                    ],
                    [
                      3120
                    ],
                    [
                      3117
                    ],
                    [
                      3119
                    ],
                    [
                      3127
                    ],
                    [
                      3118
                    ],
                    [
                      3129
                    ],
                    [
                      3098
                    ],
                    [
                      3095
                    ],
                    [
                      3094
                    ],
                    [
                      3093
                    ],
                    [
                      3092
                    ],
                    [
                      3097
                    ],
                    [
                      3096
                    ],
                    [
                      3099
                    ],
                    [
                      3132
                    ],
                    [
                      3131
                    ],
                    [
                      3130
                    ],
                    [
                      3284
                    ],
                    [
                      3258
                    ],
                    [
                      3137
                    ],
                    [
                      3259
                    ],
                    [
                      3138
                    ],
                    [
                      3136
                    ],
                    [
                      3257
                    ],
                    [
                      3019
                    ],
                    [
                      3021
                    ],
                    [
                      3020
                    ],
                    [
                      3014
                    ],
                    [
                      3018
                    ],
                    [
                      3017
                    ],
                    [
                      3016
                    ],
                    [
                      3139
                    ],
                    [
                      3140
                    ],
                    [
                      3141
                    ],
                    [
                      3133
                    ],
                    [
                      3158
                    ],
                    [
                      3087
                    ],
                    [
                      3041
                    ],
                    [
                      3159
                    ],
                    [
                      3185
                    ],
                    [
                      3063
                    ],
                    [
                      3064
                    ],
                    [
                      3065
                    ],
                    [
                      3066
                    ],
                    [
                      3067
                    ],
                    [
                      3068
                    ],
                    [
                      3186
                    ],
                    [
                      3110
                    ],
                    [
                      3135
                    ],
                    [
                      3187
                    ],
                    [
                      3188
                    ],
                    [
                      3091
                    ],
                    [
                      3090
                    ],
                    [
                      3089
                    ],
                    [
                      3062
                    ],
                    [
                      3111
                    ],
                    [
                      3160
                    ],
                    [
                      3088
                    ],
                    [
                      3161
                    ],
                    [
                      3162
                    ],
                    [
                      3163
                    ],
                    [
                      3038
                    ],
                    [
                      3039
                    ],
                    [
                      3040
                    ],
                    [
                      3042
                    ],
                    [
                      3112
                    ],
                    [
                      3043
                    ],
                    [
                      3044
                    ],
                    [
                      3116
                    ],
                    [
                      3115
                    ],
                    [
                      3114
                    ],
                    [
                      3113
                    ],
                    [
                      3134
                    ]
                  ],
                  "hovertemplate": "index=%{x}<br>dual=%{y}<br>old_idx=%{customdata[0]}<extra></extra>",
                  "legendgroup": "",
                  "line": {
                    "color": "#636efa",
                    "dash": "solid"
                  },
                  "marker": {
                    "symbol": "circle"
                  },
                  "mode": "lines",
                  "name": "",
                  "orientation": "v",
                  "showlegend": false,
                  "type": "scatter",
                  "x": [
                    0,
                    1,
                    2,
                    3,
                    4,
                    5,
                    6,
                    7,
                    8,
                    9,
                    10,
                    11,
                    12,
                    13,
                    14,
                    15,
                    16,
                    17,
                    18,
                    19,
                    20,
                    21,
                    22,
                    23,
                    24,
                    25,
                    26,
                    27,
                    28,
                    29,
                    30,
                    31,
                    32,
                    33,
                    34,
                    35,
                    36,
                    37,
                    38,
                    39,
                    40,
                    41,
                    42,
                    43,
                    44,
                    45,
                    46,
                    47,
                    48,
                    49,
                    50,
                    51,
                    52,
                    53,
                    54,
                    55,
                    56,
                    57,
                    58,
                    59,
                    60,
                    61,
                    62,
                    63,
                    64,
                    65,
                    66,
                    67,
                    68,
                    69,
                    70,
                    71,
                    72,
                    73,
                    74,
                    75,
                    76,
                    77,
                    78,
                    79,
                    80,
                    81,
                    82,
                    83,
                    84,
                    85,
                    86,
                    87,
                    88,
                    89,
                    90,
                    91,
                    92,
                    93,
                    94,
                    95,
                    96,
                    97,
                    98,
                    99,
                    100,
                    101,
                    102,
                    103,
                    104,
                    105,
                    106,
                    107,
                    108,
                    109,
                    110,
                    111,
                    112,
                    113,
                    114,
                    115,
                    116,
                    117,
                    118,
                    119,
                    120,
                    121,
                    122,
                    123,
                    124,
                    125,
                    126,
                    127,
                    128,
                    129,
                    130,
                    131,
                    132,
                    133,
                    134,
                    135,
                    136,
                    137,
                    138,
                    139,
                    140,
                    141,
                    142,
                    143,
                    144,
                    145,
                    146,
                    147,
                    148,
                    149,
                    150,
                    151,
                    152,
                    153,
                    154,
                    155,
                    156,
                    157,
                    158,
                    159,
                    160,
                    161,
                    162,
                    163,
                    164,
                    165,
                    166,
                    167,
                    168,
                    169,
                    170,
                    171,
                    172,
                    173,
                    174,
                    175,
                    176,
                    177,
                    178,
                    179,
                    180,
                    181,
                    182,
                    183,
                    184,
                    185,
                    186,
                    187,
                    188,
                    189,
                    190,
                    191,
                    192,
                    193,
                    194,
                    195,
                    196,
                    197,
                    198,
                    199,
                    200,
                    201,
                    202,
                    203,
                    204,
                    205,
                    206,
                    207,
                    208,
                    209,
                    210,
                    211,
                    212,
                    213,
                    214,
                    215,
                    216,
                    217,
                    218,
                    219,
                    220,
                    221,
                    222,
                    223,
                    224,
                    225,
                    226,
                    227,
                    228,
                    229,
                    230,
                    231,
                    232,
                    233,
                    234,
                    235,
                    236,
                    237,
                    238,
                    239,
                    240,
                    241,
                    242,
                    243,
                    244,
                    245,
                    246,
                    247,
                    248,
                    249,
                    250,
                    251,
                    252,
                    253,
                    254,
                    255,
                    256,
                    257,
                    258,
                    259,
                    260,
                    261,
                    262,
                    263,
                    264,
                    265,
                    266,
                    267,
                    268,
                    269,
                    270,
                    271,
                    272,
                    273,
                    274,
                    275,
                    276,
                    277,
                    278,
                    279,
                    280,
                    281,
                    282,
                    283,
                    284,
                    285,
                    286,
                    287,
                    288
                  ],
                  "xaxis": "x",
                  "y": [
                    715,
                    309,
                    309,
                    309,
                    309,
                    309,
                    309,
                    309,
                    306.0526315789473,
                    207,
                    207,
                    207,
                    207,
                    207,
                    207,
                    207,
                    207,
                    207,
                    207,
                    207,
                    207,
                    207,
                    207,
                    207,
                    207,
                    207,
                    207,
                    207,
                    207,
                    207,
                    207,
                    207,
                    207,
                    207,
                    207,
                    207,
                    207,
                    207,
                    207,
                    207,
                    207,
                    207,
                    207,
                    207,
                    207,
                    207,
                    207,
                    207,
                    207,
                    207,
                    207,
                    207,
                    207,
                    207,
                    207,
                    207,
                    207,
                    207,
                    207,
                    207,
                    207,
                    207,
                    207,
                    207,
                    207,
                    207,
                    207,
                    207,
                    207,
                    207,
                    207,
                    207,
                    207,
                    207,
                    207,
                    207,
                    207,
                    207,
                    207,
                    207,
                    207,
                    207,
                    207,
                    207,
                    207,
                    207,
                    207,
                    207,
                    207,
                    207,
                    207,
                    207,
                    207,
                    207,
                    207,
                    207,
                    207,
                    207,
                    207,
                    207,
                    207,
                    207,
                    207,
                    207,
                    207,
                    207,
                    207,
                    207,
                    207,
                    207,
                    207,
                    207,
                    207,
                    207,
                    207,
                    207,
                    207,
                    207,
                    207,
                    207,
                    207,
                    207,
                    207,
                    207,
                    207,
                    207,
                    207,
                    207,
                    207,
                    207,
                    207,
                    207,
                    207,
                    207,
                    207,
                    207,
                    207,
                    207,
                    207,
                    207,
                    207,
                    207,
                    207,
                    207,
                    207,
                    207,
                    207,
                    207,
                    207,
                    207,
                    207,
                    207,
                    207,
                    207,
                    207,
                    207,
                    207,
                    207,
                    207,
                    207,
                    207,
                    207,
                    207,
                    207,
                    207,
                    207,
                    207,
                    207,
                    207,
                    207,
                    207,
                    207,
                    207,
                    207,
                    207,
                    207,
                    207,
                    207,
                    207,
                    207,
                    207,
                    207,
                    207,
                    207,
                    207,
                    207,
                    207,
                    207,
                    207,
                    207,
                    207,
                    207,
                    207,
                    207,
                    207,
                    207,
                    207,
                    207,
                    207,
                    207,
                    207,
                    207,
                    207,
                    207,
                    207,
                    207,
                    207,
                    207,
                    207,
                    207,
                    207,
                    207,
                    207,
                    207,
                    207,
                    207,
                    207,
                    207,
                    207,
                    207,
                    207,
                    207,
                    207,
                    207,
                    207,
                    207,
                    207,
                    207,
                    207,
                    207,
                    207,
                    207,
                    207,
                    0,
                    0,
                    0,
                    0,
                    0,
                    0,
                    0,
                    0,
                    0,
                    0,
                    0,
                    0,
                    0,
                    0,
                    0,
                    0,
                    0,
                    0,
                    0,
                    0,
                    0,
                    0,
                    0,
                    0,
                    0,
                    0,
                    0,
                    0,
                    0,
                    0,
                    0,
                    0,
                    0,
                    0,
                    0,
                    0,
                    0,
                    0,
                    0,
                    0,
                    0,
                    0,
                    0,
                    0,
                    0,
                    0,
                    0,
                    0,
                    0,
                    0,
                    0,
                    0,
                    0,
                    0,
                    0,
                    0
                  ],
                  "yaxis": "y"
                }
              ],
              "layout": {
                "height": 400,
                "legend": {
                  "tracegroupgap": 0
                },
                "margin": {
                  "t": 60
                },
                "template": {
                  "data": {
                    "bar": [
                      {
                        "error_x": {
                          "color": "#2a3f5f"
                        },
                        "error_y": {
                          "color": "#2a3f5f"
                        },
                        "marker": {
                          "line": {
                            "color": "#E5ECF6",
                            "width": 0.5
                          },
                          "pattern": {
                            "fillmode": "overlay",
                            "size": 10,
                            "solidity": 0.2
                          }
                        },
                        "type": "bar"
                      }
                    ],
                    "barpolar": [
                      {
                        "marker": {
                          "line": {
                            "color": "#E5ECF6",
                            "width": 0.5
                          },
                          "pattern": {
                            "fillmode": "overlay",
                            "size": 10,
                            "solidity": 0.2
                          }
                        },
                        "type": "barpolar"
                      }
                    ],
                    "carpet": [
                      {
                        "aaxis": {
                          "endlinecolor": "#2a3f5f",
                          "gridcolor": "white",
                          "linecolor": "white",
                          "minorgridcolor": "white",
                          "startlinecolor": "#2a3f5f"
                        },
                        "baxis": {
                          "endlinecolor": "#2a3f5f",
                          "gridcolor": "white",
                          "linecolor": "white",
                          "minorgridcolor": "white",
                          "startlinecolor": "#2a3f5f"
                        },
                        "type": "carpet"
                      }
                    ],
                    "choropleth": [
                      {
                        "colorbar": {
                          "outlinewidth": 0,
                          "ticks": ""
                        },
                        "type": "choropleth"
                      }
                    ],
                    "contour": [
                      {
                        "colorbar": {
                          "outlinewidth": 0,
                          "ticks": ""
                        },
                        "colorscale": [
                          [
                            0,
                            "#0d0887"
                          ],
                          [
                            0.1111111111111111,
                            "#46039f"
                          ],
                          [
                            0.2222222222222222,
                            "#7201a8"
                          ],
                          [
                            0.3333333333333333,
                            "#9c179e"
                          ],
                          [
                            0.4444444444444444,
                            "#bd3786"
                          ],
                          [
                            0.5555555555555556,
                            "#d8576b"
                          ],
                          [
                            0.6666666666666666,
                            "#ed7953"
                          ],
                          [
                            0.7777777777777778,
                            "#fb9f3a"
                          ],
                          [
                            0.8888888888888888,
                            "#fdca26"
                          ],
                          [
                            1,
                            "#f0f921"
                          ]
                        ],
                        "type": "contour"
                      }
                    ],
                    "contourcarpet": [
                      {
                        "colorbar": {
                          "outlinewidth": 0,
                          "ticks": ""
                        },
                        "type": "contourcarpet"
                      }
                    ],
                    "heatmap": [
                      {
                        "colorbar": {
                          "outlinewidth": 0,
                          "ticks": ""
                        },
                        "colorscale": [
                          [
                            0,
                            "#0d0887"
                          ],
                          [
                            0.1111111111111111,
                            "#46039f"
                          ],
                          [
                            0.2222222222222222,
                            "#7201a8"
                          ],
                          [
                            0.3333333333333333,
                            "#9c179e"
                          ],
                          [
                            0.4444444444444444,
                            "#bd3786"
                          ],
                          [
                            0.5555555555555556,
                            "#d8576b"
                          ],
                          [
                            0.6666666666666666,
                            "#ed7953"
                          ],
                          [
                            0.7777777777777778,
                            "#fb9f3a"
                          ],
                          [
                            0.8888888888888888,
                            "#fdca26"
                          ],
                          [
                            1,
                            "#f0f921"
                          ]
                        ],
                        "type": "heatmap"
                      }
                    ],
                    "heatmapgl": [
                      {
                        "colorbar": {
                          "outlinewidth": 0,
                          "ticks": ""
                        },
                        "colorscale": [
                          [
                            0,
                            "#0d0887"
                          ],
                          [
                            0.1111111111111111,
                            "#46039f"
                          ],
                          [
                            0.2222222222222222,
                            "#7201a8"
                          ],
                          [
                            0.3333333333333333,
                            "#9c179e"
                          ],
                          [
                            0.4444444444444444,
                            "#bd3786"
                          ],
                          [
                            0.5555555555555556,
                            "#d8576b"
                          ],
                          [
                            0.6666666666666666,
                            "#ed7953"
                          ],
                          [
                            0.7777777777777778,
                            "#fb9f3a"
                          ],
                          [
                            0.8888888888888888,
                            "#fdca26"
                          ],
                          [
                            1,
                            "#f0f921"
                          ]
                        ],
                        "type": "heatmapgl"
                      }
                    ],
                    "histogram": [
                      {
                        "marker": {
                          "pattern": {
                            "fillmode": "overlay",
                            "size": 10,
                            "solidity": 0.2
                          }
                        },
                        "type": "histogram"
                      }
                    ],
                    "histogram2d": [
                      {
                        "colorbar": {
                          "outlinewidth": 0,
                          "ticks": ""
                        },
                        "colorscale": [
                          [
                            0,
                            "#0d0887"
                          ],
                          [
                            0.1111111111111111,
                            "#46039f"
                          ],
                          [
                            0.2222222222222222,
                            "#7201a8"
                          ],
                          [
                            0.3333333333333333,
                            "#9c179e"
                          ],
                          [
                            0.4444444444444444,
                            "#bd3786"
                          ],
                          [
                            0.5555555555555556,
                            "#d8576b"
                          ],
                          [
                            0.6666666666666666,
                            "#ed7953"
                          ],
                          [
                            0.7777777777777778,
                            "#fb9f3a"
                          ],
                          [
                            0.8888888888888888,
                            "#fdca26"
                          ],
                          [
                            1,
                            "#f0f921"
                          ]
                        ],
                        "type": "histogram2d"
                      }
                    ],
                    "histogram2dcontour": [
                      {
                        "colorbar": {
                          "outlinewidth": 0,
                          "ticks": ""
                        },
                        "colorscale": [
                          [
                            0,
                            "#0d0887"
                          ],
                          [
                            0.1111111111111111,
                            "#46039f"
                          ],
                          [
                            0.2222222222222222,
                            "#7201a8"
                          ],
                          [
                            0.3333333333333333,
                            "#9c179e"
                          ],
                          [
                            0.4444444444444444,
                            "#bd3786"
                          ],
                          [
                            0.5555555555555556,
                            "#d8576b"
                          ],
                          [
                            0.6666666666666666,
                            "#ed7953"
                          ],
                          [
                            0.7777777777777778,
                            "#fb9f3a"
                          ],
                          [
                            0.8888888888888888,
                            "#fdca26"
                          ],
                          [
                            1,
                            "#f0f921"
                          ]
                        ],
                        "type": "histogram2dcontour"
                      }
                    ],
                    "mesh3d": [
                      {
                        "colorbar": {
                          "outlinewidth": 0,
                          "ticks": ""
                        },
                        "type": "mesh3d"
                      }
                    ],
                    "parcoords": [
                      {
                        "line": {
                          "colorbar": {
                            "outlinewidth": 0,
                            "ticks": ""
                          }
                        },
                        "type": "parcoords"
                      }
                    ],
                    "pie": [
                      {
                        "automargin": true,
                        "type": "pie"
                      }
                    ],
                    "scatter": [
                      {
                        "fillpattern": {
                          "fillmode": "overlay",
                          "size": 10,
                          "solidity": 0.2
                        },
                        "type": "scatter"
                      }
                    ],
                    "scatter3d": [
                      {
                        "line": {
                          "colorbar": {
                            "outlinewidth": 0,
                            "ticks": ""
                          }
                        },
                        "marker": {
                          "colorbar": {
                            "outlinewidth": 0,
                            "ticks": ""
                          }
                        },
                        "type": "scatter3d"
                      }
                    ],
                    "scattercarpet": [
                      {
                        "marker": {
                          "colorbar": {
                            "outlinewidth": 0,
                            "ticks": ""
                          }
                        },
                        "type": "scattercarpet"
                      }
                    ],
                    "scattergeo": [
                      {
                        "marker": {
                          "colorbar": {
                            "outlinewidth": 0,
                            "ticks": ""
                          }
                        },
                        "type": "scattergeo"
                      }
                    ],
                    "scattergl": [
                      {
                        "marker": {
                          "colorbar": {
                            "outlinewidth": 0,
                            "ticks": ""
                          }
                        },
                        "type": "scattergl"
                      }
                    ],
                    "scattermapbox": [
                      {
                        "marker": {
                          "colorbar": {
                            "outlinewidth": 0,
                            "ticks": ""
                          }
                        },
                        "type": "scattermapbox"
                      }
                    ],
                    "scatterpolar": [
                      {
                        "marker": {
                          "colorbar": {
                            "outlinewidth": 0,
                            "ticks": ""
                          }
                        },
                        "type": "scatterpolar"
                      }
                    ],
                    "scatterpolargl": [
                      {
                        "marker": {
                          "colorbar": {
                            "outlinewidth": 0,
                            "ticks": ""
                          }
                        },
                        "type": "scatterpolargl"
                      }
                    ],
                    "scatterternary": [
                      {
                        "marker": {
                          "colorbar": {
                            "outlinewidth": 0,
                            "ticks": ""
                          }
                        },
                        "type": "scatterternary"
                      }
                    ],
                    "surface": [
                      {
                        "colorbar": {
                          "outlinewidth": 0,
                          "ticks": ""
                        },
                        "colorscale": [
                          [
                            0,
                            "#0d0887"
                          ],
                          [
                            0.1111111111111111,
                            "#46039f"
                          ],
                          [
                            0.2222222222222222,
                            "#7201a8"
                          ],
                          [
                            0.3333333333333333,
                            "#9c179e"
                          ],
                          [
                            0.4444444444444444,
                            "#bd3786"
                          ],
                          [
                            0.5555555555555556,
                            "#d8576b"
                          ],
                          [
                            0.6666666666666666,
                            "#ed7953"
                          ],
                          [
                            0.7777777777777778,
                            "#fb9f3a"
                          ],
                          [
                            0.8888888888888888,
                            "#fdca26"
                          ],
                          [
                            1,
                            "#f0f921"
                          ]
                        ],
                        "type": "surface"
                      }
                    ],
                    "table": [
                      {
                        "cells": {
                          "fill": {
                            "color": "#EBF0F8"
                          },
                          "line": {
                            "color": "white"
                          }
                        },
                        "header": {
                          "fill": {
                            "color": "#C8D4E3"
                          },
                          "line": {
                            "color": "white"
                          }
                        },
                        "type": "table"
                      }
                    ]
                  },
                  "layout": {
                    "annotationdefaults": {
                      "arrowcolor": "#2a3f5f",
                      "arrowhead": 0,
                      "arrowwidth": 1
                    },
                    "autotypenumbers": "strict",
                    "coloraxis": {
                      "colorbar": {
                        "outlinewidth": 0,
                        "ticks": ""
                      }
                    },
                    "colorscale": {
                      "diverging": [
                        [
                          0,
                          "#8e0152"
                        ],
                        [
                          0.1,
                          "#c51b7d"
                        ],
                        [
                          0.2,
                          "#de77ae"
                        ],
                        [
                          0.3,
                          "#f1b6da"
                        ],
                        [
                          0.4,
                          "#fde0ef"
                        ],
                        [
                          0.5,
                          "#f7f7f7"
                        ],
                        [
                          0.6,
                          "#e6f5d0"
                        ],
                        [
                          0.7,
                          "#b8e186"
                        ],
                        [
                          0.8,
                          "#7fbc41"
                        ],
                        [
                          0.9,
                          "#4d9221"
                        ],
                        [
                          1,
                          "#276419"
                        ]
                      ],
                      "sequential": [
                        [
                          0,
                          "#0d0887"
                        ],
                        [
                          0.1111111111111111,
                          "#46039f"
                        ],
                        [
                          0.2222222222222222,
                          "#7201a8"
                        ],
                        [
                          0.3333333333333333,
                          "#9c179e"
                        ],
                        [
                          0.4444444444444444,
                          "#bd3786"
                        ],
                        [
                          0.5555555555555556,
                          "#d8576b"
                        ],
                        [
                          0.6666666666666666,
                          "#ed7953"
                        ],
                        [
                          0.7777777777777778,
                          "#fb9f3a"
                        ],
                        [
                          0.8888888888888888,
                          "#fdca26"
                        ],
                        [
                          1,
                          "#f0f921"
                        ]
                      ],
                      "sequentialminus": [
                        [
                          0,
                          "#0d0887"
                        ],
                        [
                          0.1111111111111111,
                          "#46039f"
                        ],
                        [
                          0.2222222222222222,
                          "#7201a8"
                        ],
                        [
                          0.3333333333333333,
                          "#9c179e"
                        ],
                        [
                          0.4444444444444444,
                          "#bd3786"
                        ],
                        [
                          0.5555555555555556,
                          "#d8576b"
                        ],
                        [
                          0.6666666666666666,
                          "#ed7953"
                        ],
                        [
                          0.7777777777777778,
                          "#fb9f3a"
                        ],
                        [
                          0.8888888888888888,
                          "#fdca26"
                        ],
                        [
                          1,
                          "#f0f921"
                        ]
                      ]
                    },
                    "colorway": [
                      "#636efa",
                      "#EF553B",
                      "#00cc96",
                      "#ab63fa",
                      "#FFA15A",
                      "#19d3f3",
                      "#FF6692",
                      "#B6E880",
                      "#FF97FF",
                      "#FECB52"
                    ],
                    "font": {
                      "color": "#2a3f5f"
                    },
                    "geo": {
                      "bgcolor": "white",
                      "lakecolor": "white",
                      "landcolor": "#E5ECF6",
                      "showlakes": true,
                      "showland": true,
                      "subunitcolor": "white"
                    },
                    "hoverlabel": {
                      "align": "left"
                    },
                    "hovermode": "closest",
                    "mapbox": {
                      "style": "light"
                    },
                    "paper_bgcolor": "white",
                    "plot_bgcolor": "#E5ECF6",
                    "polar": {
                      "angularaxis": {
                        "gridcolor": "white",
                        "linecolor": "white",
                        "ticks": ""
                      },
                      "bgcolor": "#E5ECF6",
                      "radialaxis": {
                        "gridcolor": "white",
                        "linecolor": "white",
                        "ticks": ""
                      }
                    },
                    "scene": {
                      "xaxis": {
                        "backgroundcolor": "#E5ECF6",
                        "gridcolor": "white",
                        "gridwidth": 2,
                        "linecolor": "white",
                        "showbackground": true,
                        "ticks": "",
                        "zerolinecolor": "white"
                      },
                      "yaxis": {
                        "backgroundcolor": "#E5ECF6",
                        "gridcolor": "white",
                        "gridwidth": 2,
                        "linecolor": "white",
                        "showbackground": true,
                        "ticks": "",
                        "zerolinecolor": "white"
                      },
                      "zaxis": {
                        "backgroundcolor": "#E5ECF6",
                        "gridcolor": "white",
                        "gridwidth": 2,
                        "linecolor": "white",
                        "showbackground": true,
                        "ticks": "",
                        "zerolinecolor": "white"
                      }
                    },
                    "shapedefaults": {
                      "line": {
                        "color": "#2a3f5f"
                      }
                    },
                    "ternary": {
                      "aaxis": {
                        "gridcolor": "white",
                        "linecolor": "white",
                        "ticks": ""
                      },
                      "baxis": {
                        "gridcolor": "white",
                        "linecolor": "white",
                        "ticks": ""
                      },
                      "bgcolor": "#E5ECF6",
                      "caxis": {
                        "gridcolor": "white",
                        "linecolor": "white",
                        "ticks": ""
                      }
                    },
                    "title": {
                      "x": 0.05
                    },
                    "xaxis": {
                      "automargin": true,
                      "gridcolor": "white",
                      "linecolor": "white",
                      "ticks": "",
                      "title": {
                        "standoff": 15
                      },
                      "zerolinecolor": "white",
                      "zerolinewidth": 2
                    },
                    "yaxis": {
                      "automargin": true,
                      "gridcolor": "white",
                      "linecolor": "white",
                      "ticks": "",
                      "title": {
                        "standoff": 15
                      },
                      "zerolinecolor": "white",
                      "zerolinewidth": 2
                    }
                  }
                },
                "title": {
                  "text": "load duration curve"
                },
                "width": 600,
                "xaxis": {
                  "anchor": "y",
                  "domain": [
                    0,
                    1
                  ],
                  "title": {
                    "text": "index"
                  }
                },
                "yaxis": {
                  "anchor": "x",
                  "domain": [
                    0,
                    1
                  ],
                  "title": {
                    "text": "dual"
                  }
                }
              }
            }
          },
          "metadata": {},
          "output_type": "display_data"
        }
      ],
      "source": [
        "dual_df = dual_dfs[\"balance_constraint\"]\n",
        "price_duration = dual_df.sort_values(by=\"dual\", ascending=False).reset_index(names=[\"old_idx\"])\n",
        "fig = px.line(price_duration.reset_index(), x=\"index\", y=\"dual\", hover_data=[\"old_idx\"])\n",
        "fig.update_layout(width=600, height=400, title=\"load duration curve\")"
      ]
    },
    {
      "cell_type": "code",
      "execution_count": 15,
      "metadata": {},
      "outputs": [],
      "source": [
        "if demand_response:\n",
        "    dr_df = opt_vars[\"demand_shift_down\"].rename({\"value\":\"down\"}, axis=1)\n",
        "    dr_df[\"up\"] = opt_vars[\"demand_shift_up\"][\"value\"]\n",
        "    # dr_df.set_index(\"hour\").plot()"
      ]
    },
    {
      "cell_type": "code",
      "execution_count": 16,
      "metadata": {},
      "outputs": [
        {
          "data": {
            "application/vnd.plotly.v1+json": {
              "config": {
                "plotlyServerURL": "https://plot.ly"
              },
              "data": [
                {
                  "hovertemplate": "variable=dual<br>index=%{x}<br>value=%{y}<extra></extra>",
                  "legendgroup": "",
                  "line": {
                    "color": "#636efa",
                    "dash": "solid"
                  },
                  "marker": {
                    "symbol": "circle"
                  },
                  "mode": "lines",
                  "name": "",
                  "orientation": "v",
                  "showlegend": false,
                  "type": "scatter",
                  "x": [
                    3000,
                    3001,
                    3002,
                    3003,
                    3004,
                    3005,
                    3006,
                    3007,
                    3008,
                    3009,
                    3010,
                    3011,
                    3012,
                    3013,
                    3014,
                    3015,
                    3016,
                    3017,
                    3018,
                    3019,
                    3020,
                    3021,
                    3022,
                    3023,
                    3024,
                    3025,
                    3026,
                    3027,
                    3028,
                    3029,
                    3030,
                    3031,
                    3032,
                    3033,
                    3034,
                    3035,
                    3036,
                    3037,
                    3038,
                    3039,
                    3040,
                    3041,
                    3042,
                    3043,
                    3044,
                    3045,
                    3046,
                    3047,
                    3048,
                    3049,
                    3050,
                    3051,
                    3052,
                    3053,
                    3054,
                    3055,
                    3056,
                    3057,
                    3058,
                    3059,
                    3060,
                    3061,
                    3062,
                    3063,
                    3064,
                    3065,
                    3066,
                    3067,
                    3068,
                    3069,
                    3070,
                    3071,
                    3072,
                    3073,
                    3074,
                    3075,
                    3076,
                    3077,
                    3078,
                    3079,
                    3080,
                    3081,
                    3082,
                    3083,
                    3084,
                    3085,
                    3086,
                    3087,
                    3088,
                    3089,
                    3090,
                    3091,
                    3092,
                    3093,
                    3094,
                    3095,
                    3096,
                    3097,
                    3098,
                    3099,
                    3100,
                    3101,
                    3102,
                    3103,
                    3104,
                    3105,
                    3106,
                    3107,
                    3108,
                    3109,
                    3110,
                    3111,
                    3112,
                    3113,
                    3114,
                    3115,
                    3116,
                    3117,
                    3118,
                    3119,
                    3120,
                    3121,
                    3122,
                    3123,
                    3124,
                    3125,
                    3126,
                    3127,
                    3128,
                    3129,
                    3130,
                    3131,
                    3132,
                    3133,
                    3134,
                    3135,
                    3136,
                    3137,
                    3138,
                    3139,
                    3140,
                    3141,
                    3142,
                    3143,
                    3144,
                    3145,
                    3146,
                    3147,
                    3148,
                    3149,
                    3150,
                    3151,
                    3152,
                    3153,
                    3154,
                    3155,
                    3156,
                    3157,
                    3158,
                    3159,
                    3160,
                    3161,
                    3162,
                    3163,
                    3164,
                    3165,
                    3166,
                    3167,
                    3168,
                    3169,
                    3170,
                    3171,
                    3172,
                    3173,
                    3174,
                    3175,
                    3176,
                    3177,
                    3178,
                    3179,
                    3180,
                    3181,
                    3182,
                    3183,
                    3184,
                    3185,
                    3186,
                    3187,
                    3188,
                    3189,
                    3190,
                    3191,
                    3192,
                    3193,
                    3194,
                    3195,
                    3196,
                    3197,
                    3198,
                    3199,
                    3200,
                    3201,
                    3202,
                    3203,
                    3204,
                    3205,
                    3206,
                    3207,
                    3208,
                    3209,
                    3210,
                    3211,
                    3212,
                    3213,
                    3214,
                    3215,
                    3216,
                    3217,
                    3218,
                    3219,
                    3220,
                    3221,
                    3222,
                    3223,
                    3224,
                    3225,
                    3226,
                    3227,
                    3228,
                    3229,
                    3230,
                    3231,
                    3232,
                    3233,
                    3234,
                    3235,
                    3236,
                    3237,
                    3238,
                    3239,
                    3240,
                    3241,
                    3242,
                    3243,
                    3244,
                    3245,
                    3246,
                    3247,
                    3248,
                    3249,
                    3250,
                    3251,
                    3252,
                    3253,
                    3254,
                    3255,
                    3256,
                    3257,
                    3258,
                    3259,
                    3260,
                    3261,
                    3262,
                    3263,
                    3264,
                    3265,
                    3266,
                    3267,
                    3268,
                    3269,
                    3270,
                    3271,
                    3272,
                    3273,
                    3274,
                    3275,
                    3276,
                    3277,
                    3278,
                    3279,
                    3280,
                    3281,
                    3282,
                    3283,
                    3284,
                    3285,
                    3286,
                    3287,
                    3288
                  ],
                  "xaxis": "x3",
                  "y": [
                    207,
                    207,
                    207,
                    207,
                    207,
                    207,
                    207,
                    207,
                    207,
                    207,
                    207,
                    207,
                    207,
                    207,
                    0,
                    207,
                    0,
                    0,
                    0,
                    0,
                    0,
                    0,
                    207,
                    207,
                    207,
                    207,
                    207,
                    207,
                    207,
                    207,
                    207,
                    207,
                    207,
                    207,
                    207,
                    207,
                    207,
                    207,
                    0,
                    0,
                    0,
                    0,
                    0,
                    0,
                    0,
                    207,
                    207,
                    207,
                    207,
                    207,
                    207,
                    207,
                    207,
                    207,
                    207,
                    207,
                    207,
                    207,
                    207,
                    207,
                    207,
                    207,
                    0,
                    0,
                    0,
                    0,
                    0,
                    0,
                    0,
                    207,
                    207,
                    207,
                    207,
                    207,
                    207,
                    207,
                    207,
                    207,
                    207,
                    207,
                    207,
                    207,
                    207,
                    207,
                    207,
                    207,
                    207,
                    0,
                    0,
                    0,
                    0,
                    0,
                    207,
                    207,
                    207,
                    207,
                    207,
                    207,
                    207,
                    207,
                    207,
                    207,
                    207,
                    207,
                    207,
                    207,
                    207,
                    207,
                    207,
                    207,
                    0,
                    0,
                    0,
                    0,
                    0,
                    0,
                    0,
                    207,
                    207,
                    207,
                    207,
                    207,
                    207,
                    207,
                    207,
                    207,
                    207,
                    207,
                    207,
                    207,
                    207,
                    207,
                    207,
                    0,
                    0,
                    0,
                    0,
                    0,
                    0,
                    0,
                    0,
                    0,
                    207,
                    207,
                    207,
                    207,
                    207,
                    207,
                    207,
                    207,
                    207,
                    207,
                    207,
                    207,
                    207,
                    207,
                    207,
                    207,
                    0,
                    0,
                    0,
                    0,
                    0,
                    0,
                    207,
                    207,
                    207,
                    207,
                    207,
                    207,
                    207,
                    207,
                    207,
                    207,
                    207,
                    207,
                    207,
                    207,
                    207,
                    207,
                    207,
                    207,
                    207,
                    207,
                    207,
                    0,
                    0,
                    0,
                    0,
                    207,
                    207,
                    207,
                    207,
                    207,
                    207,
                    207,
                    207,
                    207,
                    207,
                    207,
                    207,
                    207,
                    309,
                    207,
                    207,
                    207,
                    207,
                    207,
                    207,
                    207,
                    207,
                    207,
                    207,
                    207,
                    207,
                    207,
                    207,
                    207,
                    207,
                    207,
                    207,
                    207,
                    207,
                    207,
                    306.0526315789473,
                    309,
                    715,
                    309,
                    207,
                    207,
                    207,
                    207,
                    207,
                    207,
                    207,
                    207,
                    207,
                    207,
                    207,
                    207,
                    207,
                    207,
                    207,
                    207,
                    207,
                    207,
                    207,
                    309,
                    309,
                    309,
                    309,
                    207,
                    207,
                    207,
                    207,
                    207,
                    207,
                    0,
                    0,
                    0,
                    207,
                    207,
                    207,
                    207,
                    207,
                    207,
                    207,
                    207,
                    207,
                    207,
                    207,
                    207,
                    207,
                    207,
                    207,
                    207,
                    207,
                    207,
                    207,
                    207,
                    207,
                    207,
                    207,
                    207,
                    0,
                    207,
                    207,
                    207,
                    207
                  ],
                  "yaxis": "y3"
                },
                {
                  "hovertemplate": "variable=old_demand<br>index=%{x}<br>value=%{y}<extra></extra>",
                  "legendgroup": "",
                  "line": {
                    "color": "#636efa",
                    "dash": "solid"
                  },
                  "marker": {
                    "symbol": "circle"
                  },
                  "mode": "lines",
                  "name": "",
                  "orientation": "v",
                  "showlegend": false,
                  "type": "scatter",
                  "x": [
                    3000,
                    3001,
                    3002,
                    3003,
                    3004,
                    3005,
                    3006,
                    3007,
                    3008,
                    3009,
                    3010,
                    3011,
                    3012,
                    3013,
                    3014,
                    3015,
                    3016,
                    3017,
                    3018,
                    3019,
                    3020,
                    3021,
                    3022,
                    3023,
                    3024,
                    3025,
                    3026,
                    3027,
                    3028,
                    3029,
                    3030,
                    3031,
                    3032,
                    3033,
                    3034,
                    3035,
                    3036,
                    3037,
                    3038,
                    3039,
                    3040,
                    3041,
                    3042,
                    3043,
                    3044,
                    3045,
                    3046,
                    3047,
                    3048,
                    3049,
                    3050,
                    3051,
                    3052,
                    3053,
                    3054,
                    3055,
                    3056,
                    3057,
                    3058,
                    3059,
                    3060,
                    3061,
                    3062,
                    3063,
                    3064,
                    3065,
                    3066,
                    3067,
                    3068,
                    3069,
                    3070,
                    3071,
                    3072,
                    3073,
                    3074,
                    3075,
                    3076,
                    3077,
                    3078,
                    3079,
                    3080,
                    3081,
                    3082,
                    3083,
                    3084,
                    3085,
                    3086,
                    3087,
                    3088,
                    3089,
                    3090,
                    3091,
                    3092,
                    3093,
                    3094,
                    3095,
                    3096,
                    3097,
                    3098,
                    3099,
                    3100,
                    3101,
                    3102,
                    3103,
                    3104,
                    3105,
                    3106,
                    3107,
                    3108,
                    3109,
                    3110,
                    3111,
                    3112,
                    3113,
                    3114,
                    3115,
                    3116,
                    3117,
                    3118,
                    3119,
                    3120,
                    3121,
                    3122,
                    3123,
                    3124,
                    3125,
                    3126,
                    3127,
                    3128,
                    3129,
                    3130,
                    3131,
                    3132,
                    3133,
                    3134,
                    3135,
                    3136,
                    3137,
                    3138,
                    3139,
                    3140,
                    3141,
                    3142,
                    3143,
                    3144,
                    3145,
                    3146,
                    3147,
                    3148,
                    3149,
                    3150,
                    3151,
                    3152,
                    3153,
                    3154,
                    3155,
                    3156,
                    3157,
                    3158,
                    3159,
                    3160,
                    3161,
                    3162,
                    3163,
                    3164,
                    3165,
                    3166,
                    3167,
                    3168,
                    3169,
                    3170,
                    3171,
                    3172,
                    3173,
                    3174,
                    3175,
                    3176,
                    3177,
                    3178,
                    3179,
                    3180,
                    3181,
                    3182,
                    3183,
                    3184,
                    3185,
                    3186,
                    3187,
                    3188,
                    3189,
                    3190,
                    3191,
                    3192,
                    3193,
                    3194,
                    3195,
                    3196,
                    3197,
                    3198,
                    3199,
                    3200,
                    3201,
                    3202,
                    3203,
                    3204,
                    3205,
                    3206,
                    3207,
                    3208,
                    3209,
                    3210,
                    3211,
                    3212,
                    3213,
                    3214,
                    3215,
                    3216,
                    3217,
                    3218,
                    3219,
                    3220,
                    3221,
                    3222,
                    3223,
                    3224,
                    3225,
                    3226,
                    3227,
                    3228,
                    3229,
                    3230,
                    3231,
                    3232,
                    3233,
                    3234,
                    3235,
                    3236,
                    3237,
                    3238,
                    3239,
                    3240,
                    3241,
                    3242,
                    3243,
                    3244,
                    3245,
                    3246,
                    3247,
                    3248,
                    3249,
                    3250,
                    3251,
                    3252,
                    3253,
                    3254,
                    3255,
                    3256,
                    3257,
                    3258,
                    3259,
                    3260,
                    3261,
                    3262,
                    3263,
                    3264,
                    3265,
                    3266,
                    3267,
                    3268,
                    3269,
                    3270,
                    3271,
                    3272,
                    3273,
                    3274,
                    3275,
                    3276,
                    3277,
                    3278,
                    3279,
                    3280,
                    3281,
                    3282,
                    3283,
                    3284,
                    3285,
                    3286,
                    3287,
                    3288
                  ],
                  "xaxis": "x2",
                  "y": [
                    12793,
                    12528,
                    12264,
                    12304,
                    12951,
                    14005,
                    15298,
                    15511,
                    15220,
                    15297,
                    15298,
                    15155,
                    15153,
                    14949,
                    14985,
                    15239,
                    15536,
                    15500,
                    15837,
                    16298,
                    16493,
                    15378,
                    14052,
                    13074,
                    12531,
                    12198,
                    12152,
                    12184,
                    12861,
                    14260,
                    15391,
                    15673,
                    15153,
                    15213,
                    15188,
                    15138,
                    15162,
                    14918,
                    15090,
                    15271,
                    15585,
                    15703,
                    15992,
                    16567,
                    16423,
                    15264,
                    13952,
                    13009,
                    12494,
                    12245,
                    12161,
                    12292,
                    12989,
                    14121,
                    15209,
                    15408,
                    15493,
                    15368,
                    15270,
                    15140,
                    15126,
                    15234,
                    15208,
                    15546,
                    15811,
                    15803,
                    15988,
                    16431,
                    16449,
                    15509,
                    13939,
                    12881,
                    12318,
                    12023,
                    11861,
                    11922,
                    12472,
                    13558,
                    14691,
                    15057,
                    15137,
                    15201,
                    15291,
                    15248,
                    15395,
                    15297,
                    15390,
                    15812,
                    15720,
                    15433,
                    15530,
                    15838,
                    15662,
                    14813,
                    13467,
                    12436,
                    11797,
                    11525,
                    11370,
                    11244,
                    11448,
                    11684,
                    12460,
                    13532,
                    13877,
                    14042,
                    13982,
                    13947,
                    13572,
                    13265,
                    13111,
                    13306,
                    13761,
                    13851,
                    14004,
                    14317,
                    14570,
                    14054,
                    12883,
                    12104,
                    11593,
                    11172,
                    10990,
                    11088,
                    11222,
                    11239,
                    11940,
                    12556,
                    12953,
                    13002,
                    13115,
                    12929,
                    12819,
                    12671,
                    12782,
                    13181,
                    13614,
                    13624,
                    13869,
                    14384,
                    14786,
                    14008,
                    12843,
                    11997,
                    11584,
                    11417,
                    11483,
                    11502,
                    12110,
                    13182,
                    14519,
                    14982,
                    15254,
                    15489,
                    15724,
                    15936,
                    15948,
                    15951,
                    16052,
                    16478,
                    16541,
                    16275,
                    16034,
                    16440,
                    16127,
                    15082,
                    13780,
                    12773,
                    12266,
                    11932,
                    11880,
                    11981,
                    12348,
                    13429,
                    14754,
                    15472,
                    15441,
                    15499,
                    15635,
                    15679,
                    15638,
                    15538,
                    15586,
                    16055,
                    16340,
                    16417,
                    16673,
                    16966,
                    16574,
                    15470,
                    14081,
                    12937,
                    12462,
                    12088,
                    11900,
                    12108,
                    12614,
                    13768,
                    15040,
                    15459,
                    15740,
                    15682,
                    15877,
                    15845,
                    15932,
                    15859,
                    15690,
                    16029,
                    16250,
                    16210,
                    16499,
                    16559,
                    16417,
                    15254,
                    13871,
                    12911,
                    12455,
                    12098,
                    12116,
                    12113,
                    12494,
                    13520,
                    14905,
                    15599,
                    15812,
                    15928,
                    16257,
                    16092,
                    16066,
                    16105,
                    16244,
                    16551,
                    16721,
                    16543,
                    16521,
                    16667,
                    16662,
                    15414,
                    14095,
                    13220,
                    12688,
                    12335,
                    12193,
                    12247,
                    12731,
                    13853,
                    15188,
                    15948,
                    16023,
                    16086,
                    15958,
                    15764,
                    15764,
                    15496,
                    15174,
                    15340,
                    15298,
                    15332,
                    15502,
                    15920,
                    16306,
                    15327,
                    14026,
                    13108,
                    12490,
                    12230,
                    12011,
                    12020,
                    12167,
                    12371,
                    13032,
                    13786,
                    14021,
                    13999,
                    14046,
                    13976,
                    13792,
                    13653,
                    13393,
                    13437,
                    13741,
                    13798,
                    13868,
                    14142,
                    14681,
                    14000,
                    13144,
                    12315,
                    11933
                  ],
                  "yaxis": "y2"
                },
                {
                  "hovertemplate": "variable=post_dr_demand<br>index=%{x}<br>value=%{y}<extra></extra>",
                  "legendgroup": "",
                  "line": {
                    "color": "#636efa",
                    "dash": "solid"
                  },
                  "marker": {
                    "symbol": "circle"
                  },
                  "mode": "lines",
                  "name": "",
                  "orientation": "v",
                  "showlegend": false,
                  "type": "scatter",
                  "x": [
                    3000,
                    3001,
                    3002,
                    3003,
                    3004,
                    3005,
                    3006,
                    3007,
                    3008,
                    3009,
                    3010,
                    3011,
                    3012,
                    3013,
                    3014,
                    3015,
                    3016,
                    3017,
                    3018,
                    3019,
                    3020,
                    3021,
                    3022,
                    3023,
                    3024,
                    3025,
                    3026,
                    3027,
                    3028,
                    3029,
                    3030,
                    3031,
                    3032,
                    3033,
                    3034,
                    3035,
                    3036,
                    3037,
                    3038,
                    3039,
                    3040,
                    3041,
                    3042,
                    3043,
                    3044,
                    3045,
                    3046,
                    3047,
                    3048,
                    3049,
                    3050,
                    3051,
                    3052,
                    3053,
                    3054,
                    3055,
                    3056,
                    3057,
                    3058,
                    3059,
                    3060,
                    3061,
                    3062,
                    3063,
                    3064,
                    3065,
                    3066,
                    3067,
                    3068,
                    3069,
                    3070,
                    3071,
                    3072,
                    3073,
                    3074,
                    3075,
                    3076,
                    3077,
                    3078,
                    3079,
                    3080,
                    3081,
                    3082,
                    3083,
                    3084,
                    3085,
                    3086,
                    3087,
                    3088,
                    3089,
                    3090,
                    3091,
                    3092,
                    3093,
                    3094,
                    3095,
                    3096,
                    3097,
                    3098,
                    3099,
                    3100,
                    3101,
                    3102,
                    3103,
                    3104,
                    3105,
                    3106,
                    3107,
                    3108,
                    3109,
                    3110,
                    3111,
                    3112,
                    3113,
                    3114,
                    3115,
                    3116,
                    3117,
                    3118,
                    3119,
                    3120,
                    3121,
                    3122,
                    3123,
                    3124,
                    3125,
                    3126,
                    3127,
                    3128,
                    3129,
                    3130,
                    3131,
                    3132,
                    3133,
                    3134,
                    3135,
                    3136,
                    3137,
                    3138,
                    3139,
                    3140,
                    3141,
                    3142,
                    3143,
                    3144,
                    3145,
                    3146,
                    3147,
                    3148,
                    3149,
                    3150,
                    3151,
                    3152,
                    3153,
                    3154,
                    3155,
                    3156,
                    3157,
                    3158,
                    3159,
                    3160,
                    3161,
                    3162,
                    3163,
                    3164,
                    3165,
                    3166,
                    3167,
                    3168,
                    3169,
                    3170,
                    3171,
                    3172,
                    3173,
                    3174,
                    3175,
                    3176,
                    3177,
                    3178,
                    3179,
                    3180,
                    3181,
                    3182,
                    3183,
                    3184,
                    3185,
                    3186,
                    3187,
                    3188,
                    3189,
                    3190,
                    3191,
                    3192,
                    3193,
                    3194,
                    3195,
                    3196,
                    3197,
                    3198,
                    3199,
                    3200,
                    3201,
                    3202,
                    3203,
                    3204,
                    3205,
                    3206,
                    3207,
                    3208,
                    3209,
                    3210,
                    3211,
                    3212,
                    3213,
                    3214,
                    3215,
                    3216,
                    3217,
                    3218,
                    3219,
                    3220,
                    3221,
                    3222,
                    3223,
                    3224,
                    3225,
                    3226,
                    3227,
                    3228,
                    3229,
                    3230,
                    3231,
                    3232,
                    3233,
                    3234,
                    3235,
                    3236,
                    3237,
                    3238,
                    3239,
                    3240,
                    3241,
                    3242,
                    3243,
                    3244,
                    3245,
                    3246,
                    3247,
                    3248,
                    3249,
                    3250,
                    3251,
                    3252,
                    3253,
                    3254,
                    3255,
                    3256,
                    3257,
                    3258,
                    3259,
                    3260,
                    3261,
                    3262,
                    3263,
                    3264,
                    3265,
                    3266,
                    3267,
                    3268,
                    3269,
                    3270,
                    3271,
                    3272,
                    3273,
                    3274,
                    3275,
                    3276,
                    3277,
                    3278,
                    3279,
                    3280,
                    3281,
                    3282,
                    3283,
                    3284,
                    3285,
                    3286,
                    3287,
                    3288
                  ],
                  "xaxis": "x",
                  "y": [
                    12793,
                    12528,
                    12264,
                    12304,
                    12951,
                    14005,
                    15298,
                    15511,
                    15220,
                    15297,
                    15298,
                    15155,
                    15153,
                    14949,
                    14985,
                    15239,
                    15536,
                    15500,
                    15837,
                    16298,
                    16493,
                    15378,
                    14052,
                    13074,
                    12531,
                    12198,
                    12152,
                    12184,
                    12861,
                    14260,
                    15391,
                    15673,
                    15153,
                    15213,
                    15188,
                    15138,
                    15162,
                    14918,
                    15090,
                    15271,
                    15585,
                    15703,
                    15992,
                    16567,
                    16423,
                    15264,
                    13952,
                    13009,
                    12494,
                    12245,
                    12161,
                    12292,
                    12989,
                    14121,
                    15209,
                    15408,
                    15493,
                    15368,
                    15270,
                    15140,
                    15126,
                    15234,
                    15208,
                    15546,
                    15811,
                    15803,
                    15988,
                    16431,
                    16449,
                    15509,
                    13939,
                    12881,
                    12318,
                    12023,
                    11861,
                    11922,
                    12472,
                    13558,
                    14691,
                    15057,
                    15137,
                    15201,
                    15291,
                    15248,
                    15395,
                    15297,
                    15390,
                    15812,
                    15720,
                    15433,
                    15530,
                    15838,
                    15662,
                    14813,
                    13467,
                    12436,
                    11797,
                    11525,
                    11370,
                    11244,
                    11448,
                    11684,
                    12460,
                    13532,
                    13877,
                    14042,
                    13982,
                    13947,
                    13572,
                    13265,
                    13111,
                    13306,
                    13761,
                    13851,
                    14004,
                    14317,
                    14570,
                    14054,
                    12883,
                    12104,
                    11593,
                    11172,
                    10990,
                    11088,
                    11222,
                    11239,
                    11940,
                    12556,
                    12953,
                    13002,
                    13115,
                    12929,
                    12819,
                    12671,
                    12782,
                    13181,
                    13614,
                    13624,
                    13869,
                    14384,
                    14786,
                    14008,
                    12843,
                    11997,
                    11584,
                    11417,
                    11483,
                    11502,
                    12110,
                    13182,
                    14519,
                    14982,
                    15254,
                    15489,
                    15724,
                    15936,
                    15948,
                    15951,
                    16052,
                    16478,
                    16541,
                    16275,
                    16034,
                    16440,
                    16127,
                    15082,
                    13780,
                    12773,
                    12266,
                    11932,
                    11880,
                    11981,
                    12348,
                    13429,
                    14754,
                    15472,
                    15441,
                    15499,
                    15635,
                    15679,
                    15638,
                    15538,
                    15586,
                    16055,
                    16340,
                    16417,
                    16673,
                    16966,
                    16574,
                    15470,
                    14081,
                    12937,
                    12462,
                    12088,
                    11900,
                    12108,
                    12614,
                    13768,
                    15040,
                    15459,
                    15740,
                    15682,
                    15877,
                    15845,
                    15932,
                    15859,
                    15690,
                    16029,
                    16250,
                    16210,
                    16499,
                    16559,
                    16417,
                    15254,
                    13871,
                    12911,
                    12455,
                    12098,
                    12116,
                    12113,
                    12494,
                    13520,
                    14905,
                    15599,
                    15812,
                    15928,
                    16257,
                    16092,
                    16066,
                    16105,
                    16244,
                    16551,
                    16721,
                    16543,
                    16521,
                    16667,
                    16662,
                    15414,
                    14095,
                    13220,
                    12688,
                    12335,
                    12193,
                    12247,
                    12731,
                    13853,
                    15188,
                    15948,
                    16023,
                    16086,
                    15958,
                    15764,
                    15764,
                    15496,
                    15174,
                    15340,
                    15298,
                    15332,
                    15502,
                    15920,
                    16306,
                    15327,
                    14026,
                    13108,
                    12490,
                    12230,
                    12011,
                    12020,
                    12167,
                    12371,
                    13032,
                    13786,
                    14021,
                    13999,
                    14046,
                    13976,
                    13792,
                    13653,
                    13393,
                    13437,
                    13741,
                    13798,
                    13868,
                    14142,
                    14681,
                    14000,
                    13144,
                    12315,
                    11933
                  ],
                  "yaxis": "y"
                }
              ],
              "layout": {
                "annotations": [
                  {
                    "font": {},
                    "showarrow": false,
                    "text": "variable=post_dr_demand",
                    "textangle": 90,
                    "x": 0.98,
                    "xanchor": "left",
                    "xref": "paper",
                    "y": 0.15666666666666665,
                    "yanchor": "middle",
                    "yref": "paper"
                  },
                  {
                    "font": {},
                    "showarrow": false,
                    "text": "variable=old_demand",
                    "textangle": 90,
                    "x": 0.98,
                    "xanchor": "left",
                    "xref": "paper",
                    "y": 0.4999999999999999,
                    "yanchor": "middle",
                    "yref": "paper"
                  },
                  {
                    "font": {},
                    "showarrow": false,
                    "text": "variable=dual",
                    "textangle": 90,
                    "x": 0.98,
                    "xanchor": "left",
                    "xref": "paper",
                    "y": 0.8433333333333332,
                    "yanchor": "middle",
                    "yref": "paper"
                  }
                ],
                "legend": {
                  "tracegroupgap": 0
                },
                "margin": {
                  "t": 60
                },
                "template": {
                  "data": {
                    "bar": [
                      {
                        "error_x": {
                          "color": "#2a3f5f"
                        },
                        "error_y": {
                          "color": "#2a3f5f"
                        },
                        "marker": {
                          "line": {
                            "color": "#E5ECF6",
                            "width": 0.5
                          },
                          "pattern": {
                            "fillmode": "overlay",
                            "size": 10,
                            "solidity": 0.2
                          }
                        },
                        "type": "bar"
                      }
                    ],
                    "barpolar": [
                      {
                        "marker": {
                          "line": {
                            "color": "#E5ECF6",
                            "width": 0.5
                          },
                          "pattern": {
                            "fillmode": "overlay",
                            "size": 10,
                            "solidity": 0.2
                          }
                        },
                        "type": "barpolar"
                      }
                    ],
                    "carpet": [
                      {
                        "aaxis": {
                          "endlinecolor": "#2a3f5f",
                          "gridcolor": "white",
                          "linecolor": "white",
                          "minorgridcolor": "white",
                          "startlinecolor": "#2a3f5f"
                        },
                        "baxis": {
                          "endlinecolor": "#2a3f5f",
                          "gridcolor": "white",
                          "linecolor": "white",
                          "minorgridcolor": "white",
                          "startlinecolor": "#2a3f5f"
                        },
                        "type": "carpet"
                      }
                    ],
                    "choropleth": [
                      {
                        "colorbar": {
                          "outlinewidth": 0,
                          "ticks": ""
                        },
                        "type": "choropleth"
                      }
                    ],
                    "contour": [
                      {
                        "colorbar": {
                          "outlinewidth": 0,
                          "ticks": ""
                        },
                        "colorscale": [
                          [
                            0,
                            "#0d0887"
                          ],
                          [
                            0.1111111111111111,
                            "#46039f"
                          ],
                          [
                            0.2222222222222222,
                            "#7201a8"
                          ],
                          [
                            0.3333333333333333,
                            "#9c179e"
                          ],
                          [
                            0.4444444444444444,
                            "#bd3786"
                          ],
                          [
                            0.5555555555555556,
                            "#d8576b"
                          ],
                          [
                            0.6666666666666666,
                            "#ed7953"
                          ],
                          [
                            0.7777777777777778,
                            "#fb9f3a"
                          ],
                          [
                            0.8888888888888888,
                            "#fdca26"
                          ],
                          [
                            1,
                            "#f0f921"
                          ]
                        ],
                        "type": "contour"
                      }
                    ],
                    "contourcarpet": [
                      {
                        "colorbar": {
                          "outlinewidth": 0,
                          "ticks": ""
                        },
                        "type": "contourcarpet"
                      }
                    ],
                    "heatmap": [
                      {
                        "colorbar": {
                          "outlinewidth": 0,
                          "ticks": ""
                        },
                        "colorscale": [
                          [
                            0,
                            "#0d0887"
                          ],
                          [
                            0.1111111111111111,
                            "#46039f"
                          ],
                          [
                            0.2222222222222222,
                            "#7201a8"
                          ],
                          [
                            0.3333333333333333,
                            "#9c179e"
                          ],
                          [
                            0.4444444444444444,
                            "#bd3786"
                          ],
                          [
                            0.5555555555555556,
                            "#d8576b"
                          ],
                          [
                            0.6666666666666666,
                            "#ed7953"
                          ],
                          [
                            0.7777777777777778,
                            "#fb9f3a"
                          ],
                          [
                            0.8888888888888888,
                            "#fdca26"
                          ],
                          [
                            1,
                            "#f0f921"
                          ]
                        ],
                        "type": "heatmap"
                      }
                    ],
                    "heatmapgl": [
                      {
                        "colorbar": {
                          "outlinewidth": 0,
                          "ticks": ""
                        },
                        "colorscale": [
                          [
                            0,
                            "#0d0887"
                          ],
                          [
                            0.1111111111111111,
                            "#46039f"
                          ],
                          [
                            0.2222222222222222,
                            "#7201a8"
                          ],
                          [
                            0.3333333333333333,
                            "#9c179e"
                          ],
                          [
                            0.4444444444444444,
                            "#bd3786"
                          ],
                          [
                            0.5555555555555556,
                            "#d8576b"
                          ],
                          [
                            0.6666666666666666,
                            "#ed7953"
                          ],
                          [
                            0.7777777777777778,
                            "#fb9f3a"
                          ],
                          [
                            0.8888888888888888,
                            "#fdca26"
                          ],
                          [
                            1,
                            "#f0f921"
                          ]
                        ],
                        "type": "heatmapgl"
                      }
                    ],
                    "histogram": [
                      {
                        "marker": {
                          "pattern": {
                            "fillmode": "overlay",
                            "size": 10,
                            "solidity": 0.2
                          }
                        },
                        "type": "histogram"
                      }
                    ],
                    "histogram2d": [
                      {
                        "colorbar": {
                          "outlinewidth": 0,
                          "ticks": ""
                        },
                        "colorscale": [
                          [
                            0,
                            "#0d0887"
                          ],
                          [
                            0.1111111111111111,
                            "#46039f"
                          ],
                          [
                            0.2222222222222222,
                            "#7201a8"
                          ],
                          [
                            0.3333333333333333,
                            "#9c179e"
                          ],
                          [
                            0.4444444444444444,
                            "#bd3786"
                          ],
                          [
                            0.5555555555555556,
                            "#d8576b"
                          ],
                          [
                            0.6666666666666666,
                            "#ed7953"
                          ],
                          [
                            0.7777777777777778,
                            "#fb9f3a"
                          ],
                          [
                            0.8888888888888888,
                            "#fdca26"
                          ],
                          [
                            1,
                            "#f0f921"
                          ]
                        ],
                        "type": "histogram2d"
                      }
                    ],
                    "histogram2dcontour": [
                      {
                        "colorbar": {
                          "outlinewidth": 0,
                          "ticks": ""
                        },
                        "colorscale": [
                          [
                            0,
                            "#0d0887"
                          ],
                          [
                            0.1111111111111111,
                            "#46039f"
                          ],
                          [
                            0.2222222222222222,
                            "#7201a8"
                          ],
                          [
                            0.3333333333333333,
                            "#9c179e"
                          ],
                          [
                            0.4444444444444444,
                            "#bd3786"
                          ],
                          [
                            0.5555555555555556,
                            "#d8576b"
                          ],
                          [
                            0.6666666666666666,
                            "#ed7953"
                          ],
                          [
                            0.7777777777777778,
                            "#fb9f3a"
                          ],
                          [
                            0.8888888888888888,
                            "#fdca26"
                          ],
                          [
                            1,
                            "#f0f921"
                          ]
                        ],
                        "type": "histogram2dcontour"
                      }
                    ],
                    "mesh3d": [
                      {
                        "colorbar": {
                          "outlinewidth": 0,
                          "ticks": ""
                        },
                        "type": "mesh3d"
                      }
                    ],
                    "parcoords": [
                      {
                        "line": {
                          "colorbar": {
                            "outlinewidth": 0,
                            "ticks": ""
                          }
                        },
                        "type": "parcoords"
                      }
                    ],
                    "pie": [
                      {
                        "automargin": true,
                        "type": "pie"
                      }
                    ],
                    "scatter": [
                      {
                        "fillpattern": {
                          "fillmode": "overlay",
                          "size": 10,
                          "solidity": 0.2
                        },
                        "type": "scatter"
                      }
                    ],
                    "scatter3d": [
                      {
                        "line": {
                          "colorbar": {
                            "outlinewidth": 0,
                            "ticks": ""
                          }
                        },
                        "marker": {
                          "colorbar": {
                            "outlinewidth": 0,
                            "ticks": ""
                          }
                        },
                        "type": "scatter3d"
                      }
                    ],
                    "scattercarpet": [
                      {
                        "marker": {
                          "colorbar": {
                            "outlinewidth": 0,
                            "ticks": ""
                          }
                        },
                        "type": "scattercarpet"
                      }
                    ],
                    "scattergeo": [
                      {
                        "marker": {
                          "colorbar": {
                            "outlinewidth": 0,
                            "ticks": ""
                          }
                        },
                        "type": "scattergeo"
                      }
                    ],
                    "scattergl": [
                      {
                        "marker": {
                          "colorbar": {
                            "outlinewidth": 0,
                            "ticks": ""
                          }
                        },
                        "type": "scattergl"
                      }
                    ],
                    "scattermapbox": [
                      {
                        "marker": {
                          "colorbar": {
                            "outlinewidth": 0,
                            "ticks": ""
                          }
                        },
                        "type": "scattermapbox"
                      }
                    ],
                    "scatterpolar": [
                      {
                        "marker": {
                          "colorbar": {
                            "outlinewidth": 0,
                            "ticks": ""
                          }
                        },
                        "type": "scatterpolar"
                      }
                    ],
                    "scatterpolargl": [
                      {
                        "marker": {
                          "colorbar": {
                            "outlinewidth": 0,
                            "ticks": ""
                          }
                        },
                        "type": "scatterpolargl"
                      }
                    ],
                    "scatterternary": [
                      {
                        "marker": {
                          "colorbar": {
                            "outlinewidth": 0,
                            "ticks": ""
                          }
                        },
                        "type": "scatterternary"
                      }
                    ],
                    "surface": [
                      {
                        "colorbar": {
                          "outlinewidth": 0,
                          "ticks": ""
                        },
                        "colorscale": [
                          [
                            0,
                            "#0d0887"
                          ],
                          [
                            0.1111111111111111,
                            "#46039f"
                          ],
                          [
                            0.2222222222222222,
                            "#7201a8"
                          ],
                          [
                            0.3333333333333333,
                            "#9c179e"
                          ],
                          [
                            0.4444444444444444,
                            "#bd3786"
                          ],
                          [
                            0.5555555555555556,
                            "#d8576b"
                          ],
                          [
                            0.6666666666666666,
                            "#ed7953"
                          ],
                          [
                            0.7777777777777778,
                            "#fb9f3a"
                          ],
                          [
                            0.8888888888888888,
                            "#fdca26"
                          ],
                          [
                            1,
                            "#f0f921"
                          ]
                        ],
                        "type": "surface"
                      }
                    ],
                    "table": [
                      {
                        "cells": {
                          "fill": {
                            "color": "#EBF0F8"
                          },
                          "line": {
                            "color": "white"
                          }
                        },
                        "header": {
                          "fill": {
                            "color": "#C8D4E3"
                          },
                          "line": {
                            "color": "white"
                          }
                        },
                        "type": "table"
                      }
                    ]
                  },
                  "layout": {
                    "annotationdefaults": {
                      "arrowcolor": "#2a3f5f",
                      "arrowhead": 0,
                      "arrowwidth": 1
                    },
                    "autotypenumbers": "strict",
                    "coloraxis": {
                      "colorbar": {
                        "outlinewidth": 0,
                        "ticks": ""
                      }
                    },
                    "colorscale": {
                      "diverging": [
                        [
                          0,
                          "#8e0152"
                        ],
                        [
                          0.1,
                          "#c51b7d"
                        ],
                        [
                          0.2,
                          "#de77ae"
                        ],
                        [
                          0.3,
                          "#f1b6da"
                        ],
                        [
                          0.4,
                          "#fde0ef"
                        ],
                        [
                          0.5,
                          "#f7f7f7"
                        ],
                        [
                          0.6,
                          "#e6f5d0"
                        ],
                        [
                          0.7,
                          "#b8e186"
                        ],
                        [
                          0.8,
                          "#7fbc41"
                        ],
                        [
                          0.9,
                          "#4d9221"
                        ],
                        [
                          1,
                          "#276419"
                        ]
                      ],
                      "sequential": [
                        [
                          0,
                          "#0d0887"
                        ],
                        [
                          0.1111111111111111,
                          "#46039f"
                        ],
                        [
                          0.2222222222222222,
                          "#7201a8"
                        ],
                        [
                          0.3333333333333333,
                          "#9c179e"
                        ],
                        [
                          0.4444444444444444,
                          "#bd3786"
                        ],
                        [
                          0.5555555555555556,
                          "#d8576b"
                        ],
                        [
                          0.6666666666666666,
                          "#ed7953"
                        ],
                        [
                          0.7777777777777778,
                          "#fb9f3a"
                        ],
                        [
                          0.8888888888888888,
                          "#fdca26"
                        ],
                        [
                          1,
                          "#f0f921"
                        ]
                      ],
                      "sequentialminus": [
                        [
                          0,
                          "#0d0887"
                        ],
                        [
                          0.1111111111111111,
                          "#46039f"
                        ],
                        [
                          0.2222222222222222,
                          "#7201a8"
                        ],
                        [
                          0.3333333333333333,
                          "#9c179e"
                        ],
                        [
                          0.4444444444444444,
                          "#bd3786"
                        ],
                        [
                          0.5555555555555556,
                          "#d8576b"
                        ],
                        [
                          0.6666666666666666,
                          "#ed7953"
                        ],
                        [
                          0.7777777777777778,
                          "#fb9f3a"
                        ],
                        [
                          0.8888888888888888,
                          "#fdca26"
                        ],
                        [
                          1,
                          "#f0f921"
                        ]
                      ]
                    },
                    "colorway": [
                      "#636efa",
                      "#EF553B",
                      "#00cc96",
                      "#ab63fa",
                      "#FFA15A",
                      "#19d3f3",
                      "#FF6692",
                      "#B6E880",
                      "#FF97FF",
                      "#FECB52"
                    ],
                    "font": {
                      "color": "#2a3f5f"
                    },
                    "geo": {
                      "bgcolor": "white",
                      "lakecolor": "white",
                      "landcolor": "#E5ECF6",
                      "showlakes": true,
                      "showland": true,
                      "subunitcolor": "white"
                    },
                    "hoverlabel": {
                      "align": "left"
                    },
                    "hovermode": "closest",
                    "mapbox": {
                      "style": "light"
                    },
                    "paper_bgcolor": "white",
                    "plot_bgcolor": "#E5ECF6",
                    "polar": {
                      "angularaxis": {
                        "gridcolor": "white",
                        "linecolor": "white",
                        "ticks": ""
                      },
                      "bgcolor": "#E5ECF6",
                      "radialaxis": {
                        "gridcolor": "white",
                        "linecolor": "white",
                        "ticks": ""
                      }
                    },
                    "scene": {
                      "xaxis": {
                        "backgroundcolor": "#E5ECF6",
                        "gridcolor": "white",
                        "gridwidth": 2,
                        "linecolor": "white",
                        "showbackground": true,
                        "ticks": "",
                        "zerolinecolor": "white"
                      },
                      "yaxis": {
                        "backgroundcolor": "#E5ECF6",
                        "gridcolor": "white",
                        "gridwidth": 2,
                        "linecolor": "white",
                        "showbackground": true,
                        "ticks": "",
                        "zerolinecolor": "white"
                      },
                      "zaxis": {
                        "backgroundcolor": "#E5ECF6",
                        "gridcolor": "white",
                        "gridwidth": 2,
                        "linecolor": "white",
                        "showbackground": true,
                        "ticks": "",
                        "zerolinecolor": "white"
                      }
                    },
                    "shapedefaults": {
                      "line": {
                        "color": "#2a3f5f"
                      }
                    },
                    "ternary": {
                      "aaxis": {
                        "gridcolor": "white",
                        "linecolor": "white",
                        "ticks": ""
                      },
                      "baxis": {
                        "gridcolor": "white",
                        "linecolor": "white",
                        "ticks": ""
                      },
                      "bgcolor": "#E5ECF6",
                      "caxis": {
                        "gridcolor": "white",
                        "linecolor": "white",
                        "ticks": ""
                      }
                    },
                    "title": {
                      "x": 0.05
                    },
                    "xaxis": {
                      "automargin": true,
                      "gridcolor": "white",
                      "linecolor": "white",
                      "ticks": "",
                      "title": {
                        "standoff": 15
                      },
                      "zerolinecolor": "white",
                      "zerolinewidth": 2
                    },
                    "yaxis": {
                      "automargin": true,
                      "gridcolor": "white",
                      "linecolor": "white",
                      "ticks": "",
                      "title": {
                        "standoff": 15
                      },
                      "zerolinecolor": "white",
                      "zerolinewidth": 2
                    }
                  }
                },
                "xaxis": {
                  "anchor": "y",
                  "domain": [
                    0,
                    0.98
                  ],
                  "title": {
                    "text": "index"
                  }
                },
                "xaxis2": {
                  "anchor": "y2",
                  "domain": [
                    0,
                    0.98
                  ],
                  "matches": "x",
                  "showticklabels": false
                },
                "xaxis3": {
                  "anchor": "y3",
                  "domain": [
                    0,
                    0.98
                  ],
                  "matches": "x",
                  "showticklabels": false
                },
                "yaxis": {
                  "anchor": "x",
                  "domain": [
                    0,
                    0.3133333333333333
                  ],
                  "title": {
                    "text": "value"
                  }
                },
                "yaxis2": {
                  "anchor": "x2",
                  "domain": [
                    0.34333333333333327,
                    0.6566666666666665
                  ],
                  "title": {
                    "text": "value"
                  }
                },
                "yaxis3": {
                  "anchor": "x3",
                  "domain": [
                    0.6866666666666665,
                    0.9999999999999998
                  ],
                  "title": {
                    "text": "value"
                  }
                }
              }
            }
          },
          "metadata": {},
          "output_type": "display_data"
        }
      ],
      "source": [
        "\n",
        "\n",
        "dual_df[\"old_demand\"] = ontario_demand.loc[t_start:t_end,\"Ontario Demand\"]\n",
        "dual_df[\"post_dr_demand\"] = ontario_demand.loc[t_start:t_end,\"Ontario Demand\"]\n",
        "\n",
        "if demand_response:\n",
        "    dual_df[\"post_dr_demand\"] = dual_df[\"old_demand\"] + dr_df[\"up\"].values - dr_df[\"down\"].values\n",
        "    dual_df[\"dr_shift\"] = dr_df[\"up\"].values - dr_df[\"down\"].values\n",
        "\n",
        "# dual_df.melt(ignore_index=False)\n",
        "fig = px.line(dual_df.melt(ignore_index=False).reset_index(),x=\"index\",y=\"value\", facet_row=\"variable\" )\n",
        "fig.update_yaxes(matches=None)\n",
        "# ontario_demand.loc[t_start:t_end,\"Ontario Demand\"].plot()"
      ]
    },
    {
      "cell_type": "code",
      "execution_count": 17,
      "metadata": {},
      "outputs": [
        {
          "data": {
            "text/plain": [
              "49552.05263157895"
            ]
          },
          "execution_count": 17,
          "metadata": {},
          "output_type": "execute_result"
        }
      ],
      "source": [
        "price_duration[\"dual\"].sum()\n",
        "# 1015756.1079984119\n",
        "# however, the marginals don't change for\n",
        "# ontario_demand[\"Ontario Demand\"] += 1\n",
        "# 1015756.1079984119\n",
        "\n",
        "# nor do they change for \n",
        "# ontario_demand[\"Ontario Demand\"] *= 2\n",
        "# 1015756.1079984119\n",
        "\n",
        "# but it does change for random demand additions:\n",
        "# 1014357.3627871022 # ... but decreases?\n",
        "# so shape shifting, is the only way to change marginals\n",
        "\n",
        "# for demand.sum = 1\n",
        "# 1049787.9184475108"
      ]
    },
    {
      "cell_type": "code",
      "execution_count": 18,
      "metadata": {},
      "outputs": [
        {
          "data": {
            "text/plain": [
              "171.46038972864687"
            ]
          },
          "execution_count": 18,
          "metadata": {},
          "output_type": "execute_result"
        }
      ],
      "source": [
        "price_duration[\"dual\"].mean()\n",
        "\n",
        "# 119.83880347574325 # <- with invest\n",
        "# 119.80342465753425 # <- without invest\n"
      ]
    },
    {
      "cell_type": "code",
      "execution_count": 19,
      "metadata": {},
      "outputs": [
        {
          "data": {
            "text/plain": [
              "169.19526930982582"
            ]
          },
          "execution_count": 19,
          "metadata": {},
          "output_type": "execute_result"
        }
      ],
      "source": [
        "(dual_dfs[\"balance_constraint\"][\"dual\"] * dual_df[\"post_dr_demand\"]).sum() / dual_df[\"post_dr_demand\"].sum()\n",
        "# 114.62626668476345 <- without invest\n",
        "# 114.68167861367824 <- with invest\n",
        "\n",
        "# 166.302 with dr=3000, and 4 hours each direction and pv_cap=30k\n",
        "# 130.542 with dr=3000, and 4 hours each direction and no pv_cap!\n",
        "# 136.342 with no dr and no pv_cap\n",
        "# 169.195 with no dr and pv_cap=30k"
      ]
    },
    {
      "cell_type": "code",
      "execution_count": 20,
      "metadata": {},
      "outputs": [
        {
          "data": {
            "text/plain": [
              "145.63180280671733"
            ]
          },
          "execution_count": 20,
          "metadata": {},
          "output_type": "execute_result"
        }
      ],
      "source": [
        "pyo.value(esm.objective) / dual_df[\"post_dr_demand\"].sum()\n",
        "\n",
        "# note that the introduction of a pv capacity limit alters sth, such that S_c/sum(D) != weighted marginal\n",
        "# 141.049 with dr=3000, and 4 hours each direction and pv_cap=30k\n",
        "# 130.542 with dr=3000, and 4 hours each direction and no pv_cap!\n",
        "# 136.342 with no dr and no pv_cap\n",
        "# 145.631 with no dr and pv_cap=30k"
      ]
    },
    {
      "cell_type": "code",
      "execution_count": 21,
      "metadata": {},
      "outputs": [
        {
          "data": {
            "application/vnd.plotly.v1+json": {
              "config": {
                "plotlyServerURL": "https://plot.ly"
              },
              "data": [
                {
                  "fillpattern": {
                    "shape": ""
                  },
                  "hovertemplate": "gen_types=pv<br>hour=%{x}<br>value=%{y}<extra></extra>",
                  "legendgroup": "pv",
                  "line": {
                    "color": "#636efa",
                    "width": 0
                  },
                  "marker": {
                    "symbol": "circle"
                  },
                  "mode": "lines",
                  "name": "pv",
                  "orientation": "v",
                  "showlegend": true,
                  "stackgroup": "1",
                  "type": "scatter",
                  "x": [
                    3000,
                    3001,
                    3002,
                    3003,
                    3004,
                    3005,
                    3006,
                    3007,
                    3008,
                    3009,
                    3010,
                    3011,
                    3012,
                    3013,
                    3014,
                    3015,
                    3016,
                    3017,
                    3018,
                    3019,
                    3020,
                    3021,
                    3022,
                    3023,
                    3024,
                    3025,
                    3026,
                    3027,
                    3028,
                    3029,
                    3030,
                    3031,
                    3032,
                    3033,
                    3034,
                    3035,
                    3036,
                    3037,
                    3038,
                    3039,
                    3040,
                    3041,
                    3042,
                    3043,
                    3044,
                    3045,
                    3046,
                    3047,
                    3048,
                    3049,
                    3050,
                    3051,
                    3052,
                    3053,
                    3054,
                    3055,
                    3056,
                    3057,
                    3058,
                    3059,
                    3060,
                    3061,
                    3062,
                    3063,
                    3064,
                    3065,
                    3066,
                    3067,
                    3068,
                    3069,
                    3070,
                    3071,
                    3072,
                    3073,
                    3074,
                    3075,
                    3076,
                    3077,
                    3078,
                    3079,
                    3080,
                    3081,
                    3082,
                    3083,
                    3084,
                    3085,
                    3086,
                    3087,
                    3088,
                    3089,
                    3090,
                    3091,
                    3092,
                    3093,
                    3094,
                    3095,
                    3096,
                    3097,
                    3098,
                    3099,
                    3100,
                    3101,
                    3102,
                    3103,
                    3104,
                    3105,
                    3106,
                    3107,
                    3108,
                    3109,
                    3110,
                    3111,
                    3112,
                    3113,
                    3114,
                    3115,
                    3116,
                    3117,
                    3118,
                    3119,
                    3120,
                    3121,
                    3122,
                    3123,
                    3124,
                    3125,
                    3126,
                    3127,
                    3128,
                    3129,
                    3130,
                    3131,
                    3132,
                    3133,
                    3134,
                    3135,
                    3136,
                    3137,
                    3138,
                    3139,
                    3140,
                    3141,
                    3142,
                    3143,
                    3144,
                    3145,
                    3146,
                    3147,
                    3148,
                    3149,
                    3150,
                    3151,
                    3152,
                    3153,
                    3154,
                    3155,
                    3156,
                    3157,
                    3158,
                    3159,
                    3160,
                    3161,
                    3162,
                    3163,
                    3164,
                    3165,
                    3166,
                    3167,
                    3168,
                    3169,
                    3170,
                    3171,
                    3172,
                    3173,
                    3174,
                    3175,
                    3176,
                    3177,
                    3178,
                    3179,
                    3180,
                    3181,
                    3182,
                    3183,
                    3184,
                    3185,
                    3186,
                    3187,
                    3188,
                    3189,
                    3190,
                    3191,
                    3192,
                    3193,
                    3194,
                    3195,
                    3196,
                    3197,
                    3198,
                    3199,
                    3200,
                    3201,
                    3202,
                    3203,
                    3204,
                    3205,
                    3206,
                    3207,
                    3208,
                    3209,
                    3210,
                    3211,
                    3212,
                    3213,
                    3214,
                    3215,
                    3216,
                    3217,
                    3218,
                    3219,
                    3220,
                    3221,
                    3222,
                    3223,
                    3224,
                    3225,
                    3226,
                    3227,
                    3228,
                    3229,
                    3230,
                    3231,
                    3232,
                    3233,
                    3234,
                    3235,
                    3236,
                    3237,
                    3238,
                    3239,
                    3240,
                    3241,
                    3242,
                    3243,
                    3244,
                    3245,
                    3246,
                    3247,
                    3248,
                    3249,
                    3250,
                    3251,
                    3252,
                    3253,
                    3254,
                    3255,
                    3256,
                    3257,
                    3258,
                    3259,
                    3260,
                    3261,
                    3262,
                    3263,
                    3264,
                    3265,
                    3266,
                    3267,
                    3268,
                    3269,
                    3270,
                    3271,
                    3272,
                    3273,
                    3274,
                    3275,
                    3276,
                    3277,
                    3278,
                    3279,
                    3280,
                    3281,
                    3282,
                    3283,
                    3284,
                    3285,
                    3286,
                    3287,
                    3288
                  ],
                  "xaxis": "x",
                  "y": [
                    0,
                    0,
                    0,
                    0,
                    0,
                    0,
                    0,
                    0,
                    0,
                    0,
                    0,
                    685.8,
                    2685.9,
                    13692,
                    20482.2,
                    11990.699999999999,
                    28049.7,
                    29113.8,
                    28734,
                    25777.5,
                    22072.2,
                    16255.500000000002,
                    8953.8,
                    2132.4,
                    0,
                    0,
                    0,
                    0,
                    0,
                    0,
                    0,
                    0,
                    0,
                    0,
                    0,
                    1002.9000000000001,
                    4612.200000000001,
                    10511.4,
                    16243.500000000004,
                    21132.6,
                    24097.199999999997,
                    24788.999999999996,
                    22165.5,
                    21484.8,
                    20086.5,
                    13309.8,
                    7326.9,
                    1945.2000000000003,
                    259.5,
                    0,
                    0,
                    0,
                    0,
                    0,
                    0,
                    0,
                    0,
                    0,
                    0,
                    1018.8000000000001,
                    4089.3000000000006,
                    9416.999999999998,
                    17963.100000000002,
                    19357.5,
                    21869.7,
                    24696.3,
                    22894.2,
                    22492.199999999997,
                    18879.600000000002,
                    13737.300000000001,
                    5093.7,
                    1328.4,
                    125.39999999999999,
                    0,
                    0,
                    0,
                    0,
                    0,
                    0,
                    0,
                    0,
                    0,
                    0,
                    990.3,
                    5369.099999999999,
                    10347.300000000001,
                    14725.5,
                    17340,
                    19116.300000000003,
                    18854.4,
                    18462.899999999998,
                    18217.8,
                    6129,
                    5860.8,
                    3708.6000000000004,
                    2140.5,
                    346.50000000000006,
                    0,
                    0,
                    0,
                    0,
                    0,
                    0,
                    0,
                    0,
                    0,
                    0,
                    1035.6000000000001,
                    5501.7,
                    13086.600000000002,
                    17503.5,
                    21918,
                    22305.6,
                    25556.399999999998,
                    24197.4,
                    23157.6,
                    18578.399999999998,
                    12101.4,
                    3577.8,
                    1613.6999999999998,
                    627.9,
                    0,
                    0,
                    0,
                    0,
                    0,
                    0,
                    0,
                    0,
                    0,
                    0,
                    1111.8000000000002,
                    5760.900000000001,
                    13335,
                    19839,
                    24663.6,
                    27834,
                    29054.4,
                    28456.8,
                    25879.199999999997,
                    21496.8,
                    15582.299999999997,
                    8484.3,
                    2076,
                    601.8,
                    0,
                    0,
                    0,
                    0,
                    0,
                    0,
                    0,
                    0,
                    0,
                    0,
                    1049.7,
                    4814.1,
                    12532.2,
                    18758.399999999998,
                    20006.7,
                    22570.500000000004,
                    20532.6,
                    21742.5,
                    18220.8,
                    10580.1,
                    8013.9,
                    5109,
                    2298.2999999999997,
                    399.9,
                    0,
                    0,
                    0,
                    0,
                    0,
                    0,
                    0,
                    0,
                    0,
                    0,
                    93.9,
                    2391,
                    487.19999999999993,
                    747.6,
                    7923.9,
                    15225.899999999998,
                    28227,
                    27725.7,
                    25018.2,
                    20883.9,
                    12352.5,
                    6707.700000000001,
                    2334,
                    486.90000000000003,
                    0,
                    0,
                    0,
                    0,
                    0,
                    0,
                    0,
                    0,
                    0,
                    0,
                    496.50000000000006,
                    4521.3,
                    7806.6,
                    9199.199999999999,
                    14517.6,
                    11570.699999999999,
                    10294.499999999998,
                    10133.7,
                    12040.500000000002,
                    14607.300000000001,
                    10180.199999999999,
                    2385.9,
                    119.4,
                    0,
                    0,
                    0,
                    0,
                    0,
                    0,
                    0,
                    0,
                    0,
                    0,
                    0,
                    158.1,
                    1421.4,
                    5028.3,
                    10389.300000000001,
                    16374.600000000002,
                    9128.7,
                    8497.800000000001,
                    7096.2,
                    5389.5,
                    3190.5,
                    2812.8,
                    3202.8,
                    1155.9,
                    122.7,
                    0,
                    0,
                    0,
                    0,
                    0,
                    0,
                    0,
                    0,
                    0,
                    0,
                    1166.7,
                    4098.3,
                    6013.2,
                    4077.8999999999996,
                    11085.3,
                    12457.2,
                    29526.000000000004,
                    28399.8,
                    17367.3,
                    7674.299999999999,
                    6231.599999999999,
                    2341.8,
                    1070.1,
                    126.00000000000001,
                    0,
                    0,
                    0,
                    0,
                    0,
                    0,
                    0,
                    0,
                    0,
                    0,
                    1179.3000000000002,
                    5306.4,
                    5087.1,
                    7060.5,
                    8571.6,
                    8267.7,
                    8651.4,
                    13619.1,
                    10126.800000000001,
                    16056.6,
                    13786.5,
                    7996.5,
                    2298.8999999999996,
                    735
                  ],
                  "yaxis": "y"
                },
                {
                  "fillpattern": {
                    "shape": ""
                  },
                  "hovertemplate": "gen_types=coal<br>hour=%{x}<br>value=%{y}<extra></extra>",
                  "legendgroup": "coal",
                  "line": {
                    "color": "#EF553B",
                    "width": 0
                  },
                  "marker": {
                    "symbol": "circle"
                  },
                  "mode": "lines",
                  "name": "coal",
                  "orientation": "v",
                  "showlegend": true,
                  "stackgroup": "1",
                  "type": "scatter",
                  "x": [
                    3000,
                    3001,
                    3002,
                    3003,
                    3004,
                    3005,
                    3006,
                    3007,
                    3008,
                    3009,
                    3010,
                    3011,
                    3012,
                    3013,
                    3014,
                    3015,
                    3016,
                    3017,
                    3018,
                    3019,
                    3020,
                    3021,
                    3022,
                    3023,
                    3024,
                    3025,
                    3026,
                    3027,
                    3028,
                    3029,
                    3030,
                    3031,
                    3032,
                    3033,
                    3034,
                    3035,
                    3036,
                    3037,
                    3038,
                    3039,
                    3040,
                    3041,
                    3042,
                    3043,
                    3044,
                    3045,
                    3046,
                    3047,
                    3048,
                    3049,
                    3050,
                    3051,
                    3052,
                    3053,
                    3054,
                    3055,
                    3056,
                    3057,
                    3058,
                    3059,
                    3060,
                    3061,
                    3062,
                    3063,
                    3064,
                    3065,
                    3066,
                    3067,
                    3068,
                    3069,
                    3070,
                    3071,
                    3072,
                    3073,
                    3074,
                    3075,
                    3076,
                    3077,
                    3078,
                    3079,
                    3080,
                    3081,
                    3082,
                    3083,
                    3084,
                    3085,
                    3086,
                    3087,
                    3088,
                    3089,
                    3090,
                    3091,
                    3092,
                    3093,
                    3094,
                    3095,
                    3096,
                    3097,
                    3098,
                    3099,
                    3100,
                    3101,
                    3102,
                    3103,
                    3104,
                    3105,
                    3106,
                    3107,
                    3108,
                    3109,
                    3110,
                    3111,
                    3112,
                    3113,
                    3114,
                    3115,
                    3116,
                    3117,
                    3118,
                    3119,
                    3120,
                    3121,
                    3122,
                    3123,
                    3124,
                    3125,
                    3126,
                    3127,
                    3128,
                    3129,
                    3130,
                    3131,
                    3132,
                    3133,
                    3134,
                    3135,
                    3136,
                    3137,
                    3138,
                    3139,
                    3140,
                    3141,
                    3142,
                    3143,
                    3144,
                    3145,
                    3146,
                    3147,
                    3148,
                    3149,
                    3150,
                    3151,
                    3152,
                    3153,
                    3154,
                    3155,
                    3156,
                    3157,
                    3158,
                    3159,
                    3160,
                    3161,
                    3162,
                    3163,
                    3164,
                    3165,
                    3166,
                    3167,
                    3168,
                    3169,
                    3170,
                    3171,
                    3172,
                    3173,
                    3174,
                    3175,
                    3176,
                    3177,
                    3178,
                    3179,
                    3180,
                    3181,
                    3182,
                    3183,
                    3184,
                    3185,
                    3186,
                    3187,
                    3188,
                    3189,
                    3190,
                    3191,
                    3192,
                    3193,
                    3194,
                    3195,
                    3196,
                    3197,
                    3198,
                    3199,
                    3200,
                    3201,
                    3202,
                    3203,
                    3204,
                    3205,
                    3206,
                    3207,
                    3208,
                    3209,
                    3210,
                    3211,
                    3212,
                    3213,
                    3214,
                    3215,
                    3216,
                    3217,
                    3218,
                    3219,
                    3220,
                    3221,
                    3222,
                    3223,
                    3224,
                    3225,
                    3226,
                    3227,
                    3228,
                    3229,
                    3230,
                    3231,
                    3232,
                    3233,
                    3234,
                    3235,
                    3236,
                    3237,
                    3238,
                    3239,
                    3240,
                    3241,
                    3242,
                    3243,
                    3244,
                    3245,
                    3246,
                    3247,
                    3248,
                    3249,
                    3250,
                    3251,
                    3252,
                    3253,
                    3254,
                    3255,
                    3256,
                    3257,
                    3258,
                    3259,
                    3260,
                    3261,
                    3262,
                    3263,
                    3264,
                    3265,
                    3266,
                    3267,
                    3268,
                    3269,
                    3270,
                    3271,
                    3272,
                    3273,
                    3274,
                    3275,
                    3276,
                    3277,
                    3278,
                    3279,
                    3280,
                    3281,
                    3282,
                    3283,
                    3284,
                    3285,
                    3286,
                    3287,
                    3288
                  ],
                  "xaxis": "x",
                  "y": [
                    12793,
                    12528,
                    12264,
                    12304,
                    12951,
                    14005,
                    15298,
                    15511,
                    15220,
                    15297,
                    15298,
                    14469.2,
                    12467.1,
                    1257,
                    0,
                    3248.300000000001,
                    0,
                    0,
                    0,
                    0,
                    0,
                    0,
                    5098.200000000001,
                    10941.6,
                    12531,
                    12198,
                    12152,
                    12184,
                    12861,
                    14260,
                    15391,
                    15673,
                    15153,
                    15213,
                    15188,
                    14135.1,
                    10549.8,
                    4406.6,
                    0,
                    0,
                    0,
                    0,
                    0,
                    0,
                    0,
                    1954.2000000000007,
                    6625.1,
                    11063.8,
                    12234.5,
                    12245,
                    12161,
                    12292,
                    12989,
                    14121,
                    15209,
                    15408,
                    15493,
                    15368,
                    15270,
                    14121.2,
                    11036.699999999999,
                    5817.000000000002,
                    0,
                    0,
                    0,
                    0,
                    0,
                    0,
                    0,
                    1771.699999999999,
                    8845.3,
                    11552.6,
                    12192.6,
                    12023,
                    11861,
                    11922,
                    12472,
                    13558,
                    14691,
                    15057,
                    15137,
                    15201,
                    15291,
                    14257.7,
                    10025.900000000001,
                    4949.699999999999,
                    664.5,
                    0,
                    0,
                    0,
                    0,
                    0,
                    9533,
                    8952.2,
                    9758.4,
                    10295.5,
                    11450.5,
                    11525,
                    11370,
                    11244,
                    11448,
                    11684,
                    12460,
                    13532,
                    13877,
                    14042,
                    13982,
                    12911.4,
                    8070.3,
                    178.39999999999782,
                    0,
                    0,
                    0,
                    0,
                    0,
                    0,
                    0,
                    1952.6000000000004,
                    9305.2,
                    10490.3,
                    10965.1,
                    11172,
                    10990,
                    11088,
                    11222,
                    11239,
                    11940,
                    12556,
                    12953,
                    13002,
                    13115,
                    11817.2,
                    7058.099999999999,
                    0,
                    0,
                    0,
                    0,
                    0,
                    0,
                    0,
                    0,
                    0,
                    4358.700000000001,
                    9921,
                    10982.2,
                    11417,
                    11483,
                    11502,
                    12110,
                    13182,
                    14519,
                    14982,
                    15254,
                    15489,
                    15724,
                    14886.3,
                    11133.9,
                    3418.7999999999993,
                    0,
                    0,
                    0,
                    0,
                    0,
                    0,
                    5546.9,
                    7068.1,
                    8671,
                    10474.7,
                    11866.1,
                    11932,
                    11880,
                    11981,
                    12348,
                    13429,
                    14754,
                    15472,
                    15441,
                    15499,
                    15635,
                    15585.1,
                    13247,
                    15050.8,
                    14838.4,
                    8131.1,
                    1114.1000000000022,
                    0,
                    0,
                    0,
                    0,
                    3117.5,
                    7373.299999999999,
                    10603,
                    11975.1,
                    12088,
                    11900,
                    12108,
                    12614,
                    13768,
                    15040,
                    15459,
                    15740,
                    15682,
                    15812,
                    15348.5,
                    11410.7,
                    8052.4,
                    6490.800000000001,
                    1511.3999999999996,
                    4679.300000000001,
                    5915.500000000002,
                    6365.299999999999,
                    4518.499999999998,
                    1809.699999999999,
                    5073.800000000001,
                    11485.1,
                    12791.6,
                    12455,
                    12098,
                    12116,
                    12113,
                    12494,
                    13520,
                    14905,
                    15599,
                    15812,
                    15812,
                    15812,
                    15812,
                    14644.6,
                    11076.7,
                    5854.699999999999,
                    176.39999999999782,
                    7592.299999999999,
                    8045.199999999999,
                    9424.8,
                    11277.5,
                    13471.5,
                    12601.2,
                    10892.2,
                    12064.1,
                    12565.3,
                    12335,
                    12193,
                    12247,
                    12731,
                    13853,
                    15188,
                    15812,
                    15812,
                    15812,
                    15812,
                    14597.3,
                    11665.7,
                    9482.8,
                    11096.1,
                    4254.700000000001,
                    2840.7999999999993,
                    0,
                    0,
                    0,
                    8631.7,
                    9095.400000000001,
                    11684.2,
                    12037.9,
                    12364,
                    12230,
                    12011,
                    12020,
                    12167,
                    12371,
                    13032,
                    13786,
                    14021,
                    13999,
                    14046,
                    12796.7,
                    8485.6,
                    8565.9,
                    6332.5,
                    4865.4,
                    5473.299999999999,
                    5146.6,
                    248.89999999999964,
                    4015.199999999999,
                    0,
                    213.5,
                    5147.5,
                    10016.1,
                    11198
                  ],
                  "yaxis": "y"
                },
                {
                  "fillpattern": {
                    "shape": ""
                  },
                  "hovertemplate": "gen_types=gas<br>hour=%{x}<br>value=%{y}<extra></extra>",
                  "legendgroup": "gas",
                  "line": {
                    "color": "#00cc96",
                    "width": 0
                  },
                  "marker": {
                    "symbol": "circle"
                  },
                  "mode": "lines",
                  "name": "gas",
                  "orientation": "v",
                  "showlegend": true,
                  "stackgroup": "1",
                  "type": "scatter",
                  "x": [
                    3000,
                    3001,
                    3002,
                    3003,
                    3004,
                    3005,
                    3006,
                    3007,
                    3008,
                    3009,
                    3010,
                    3011,
                    3012,
                    3013,
                    3014,
                    3015,
                    3016,
                    3017,
                    3018,
                    3019,
                    3020,
                    3021,
                    3022,
                    3023,
                    3024,
                    3025,
                    3026,
                    3027,
                    3028,
                    3029,
                    3030,
                    3031,
                    3032,
                    3033,
                    3034,
                    3035,
                    3036,
                    3037,
                    3038,
                    3039,
                    3040,
                    3041,
                    3042,
                    3043,
                    3044,
                    3045,
                    3046,
                    3047,
                    3048,
                    3049,
                    3050,
                    3051,
                    3052,
                    3053,
                    3054,
                    3055,
                    3056,
                    3057,
                    3058,
                    3059,
                    3060,
                    3061,
                    3062,
                    3063,
                    3064,
                    3065,
                    3066,
                    3067,
                    3068,
                    3069,
                    3070,
                    3071,
                    3072,
                    3073,
                    3074,
                    3075,
                    3076,
                    3077,
                    3078,
                    3079,
                    3080,
                    3081,
                    3082,
                    3083,
                    3084,
                    3085,
                    3086,
                    3087,
                    3088,
                    3089,
                    3090,
                    3091,
                    3092,
                    3093,
                    3094,
                    3095,
                    3096,
                    3097,
                    3098,
                    3099,
                    3100,
                    3101,
                    3102,
                    3103,
                    3104,
                    3105,
                    3106,
                    3107,
                    3108,
                    3109,
                    3110,
                    3111,
                    3112,
                    3113,
                    3114,
                    3115,
                    3116,
                    3117,
                    3118,
                    3119,
                    3120,
                    3121,
                    3122,
                    3123,
                    3124,
                    3125,
                    3126,
                    3127,
                    3128,
                    3129,
                    3130,
                    3131,
                    3132,
                    3133,
                    3134,
                    3135,
                    3136,
                    3137,
                    3138,
                    3139,
                    3140,
                    3141,
                    3142,
                    3143,
                    3144,
                    3145,
                    3146,
                    3147,
                    3148,
                    3149,
                    3150,
                    3151,
                    3152,
                    3153,
                    3154,
                    3155,
                    3156,
                    3157,
                    3158,
                    3159,
                    3160,
                    3161,
                    3162,
                    3163,
                    3164,
                    3165,
                    3166,
                    3167,
                    3168,
                    3169,
                    3170,
                    3171,
                    3172,
                    3173,
                    3174,
                    3175,
                    3176,
                    3177,
                    3178,
                    3179,
                    3180,
                    3181,
                    3182,
                    3183,
                    3184,
                    3185,
                    3186,
                    3187,
                    3188,
                    3189,
                    3190,
                    3191,
                    3192,
                    3193,
                    3194,
                    3195,
                    3196,
                    3197,
                    3198,
                    3199,
                    3200,
                    3201,
                    3202,
                    3203,
                    3204,
                    3205,
                    3206,
                    3207,
                    3208,
                    3209,
                    3210,
                    3211,
                    3212,
                    3213,
                    3214,
                    3215,
                    3216,
                    3217,
                    3218,
                    3219,
                    3220,
                    3221,
                    3222,
                    3223,
                    3224,
                    3225,
                    3226,
                    3227,
                    3228,
                    3229,
                    3230,
                    3231,
                    3232,
                    3233,
                    3234,
                    3235,
                    3236,
                    3237,
                    3238,
                    3239,
                    3240,
                    3241,
                    3242,
                    3243,
                    3244,
                    3245,
                    3246,
                    3247,
                    3248,
                    3249,
                    3250,
                    3251,
                    3252,
                    3253,
                    3254,
                    3255,
                    3256,
                    3257,
                    3258,
                    3259,
                    3260,
                    3261,
                    3262,
                    3263,
                    3264,
                    3265,
                    3266,
                    3267,
                    3268,
                    3269,
                    3270,
                    3271,
                    3272,
                    3273,
                    3274,
                    3275,
                    3276,
                    3277,
                    3278,
                    3279,
                    3280,
                    3281,
                    3282,
                    3283,
                    3284,
                    3285,
                    3286,
                    3287,
                    3288
                  ],
                  "xaxis": "x",
                  "y": [
                    0,
                    0,
                    0,
                    0,
                    0,
                    0,
                    0,
                    0,
                    0,
                    0,
                    0,
                    0,
                    0,
                    0,
                    0,
                    0,
                    0,
                    0,
                    0,
                    0,
                    0,
                    0,
                    0,
                    0,
                    0,
                    0,
                    0,
                    0,
                    0,
                    0,
                    0,
                    0,
                    0,
                    0,
                    0,
                    0,
                    0,
                    0,
                    0,
                    0,
                    0,
                    0,
                    0,
                    0,
                    0,
                    0,
                    0,
                    0,
                    0,
                    0,
                    0,
                    0,
                    0,
                    0,
                    0,
                    0,
                    0,
                    0,
                    0,
                    0,
                    0,
                    0,
                    0,
                    0,
                    0,
                    0,
                    0,
                    0,
                    0,
                    0,
                    0,
                    0,
                    0,
                    0,
                    0,
                    0,
                    0,
                    0,
                    0,
                    0,
                    0,
                    0,
                    0,
                    0,
                    0,
                    0,
                    0,
                    0,
                    0,
                    0,
                    0,
                    0,
                    0,
                    0,
                    0,
                    0,
                    0,
                    0,
                    0,
                    0,
                    0,
                    0,
                    0,
                    0,
                    0,
                    0,
                    0,
                    0,
                    0,
                    0,
                    0,
                    0,
                    0,
                    0,
                    0,
                    0,
                    0,
                    0,
                    0,
                    0,
                    0,
                    0,
                    0,
                    0,
                    0,
                    0,
                    0,
                    0,
                    0,
                    0,
                    0,
                    0,
                    0,
                    0,
                    0,
                    0,
                    0,
                    0,
                    0,
                    0,
                    0,
                    0,
                    0,
                    0,
                    0,
                    0,
                    0,
                    0,
                    0,
                    0,
                    0,
                    0,
                    0,
                    0,
                    0,
                    0,
                    0,
                    0,
                    0,
                    0,
                    0,
                    0,
                    0,
                    0,
                    0,
                    0,
                    0,
                    0,
                    0,
                    0,
                    0,
                    0,
                    0,
                    0,
                    0,
                    0,
                    0,
                    0,
                    0,
                    0,
                    0,
                    0,
                    0,
                    0,
                    0,
                    0,
                    0,
                    0,
                    0,
                    0,
                    0,
                    0,
                    0,
                    0,
                    0,
                    0,
                    0,
                    0,
                    0,
                    0,
                    0,
                    0,
                    65,
                    0,
                    0,
                    0,
                    0,
                    0,
                    0,
                    0,
                    0,
                    0,
                    0,
                    0,
                    0,
                    0,
                    0,
                    0,
                    0,
                    0,
                    0,
                    0,
                    0,
                    0,
                    0,
                    116,
                    445,
                    121.89999999999964,
                    0,
                    0,
                    0,
                    0,
                    0,
                    0,
                    0,
                    0,
                    0,
                    0,
                    0,
                    0,
                    0,
                    0,
                    0,
                    0,
                    0,
                    0,
                    0,
                    136,
                    211,
                    274,
                    146,
                    0,
                    0,
                    0,
                    0,
                    0,
                    0,
                    0,
                    0,
                    0,
                    0,
                    0,
                    0,
                    0,
                    0,
                    0,
                    0,
                    0,
                    0,
                    0,
                    0,
                    0,
                    0,
                    0,
                    0,
                    0,
                    0,
                    0,
                    0,
                    0,
                    0,
                    0,
                    0,
                    0,
                    0,
                    0,
                    0,
                    0,
                    0
                  ],
                  "yaxis": "y"
                }
              ],
              "layout": {
                "height": 400,
                "legend": {
                  "title": {
                    "text": "gen_types"
                  },
                  "tracegroupgap": 0
                },
                "margin": {
                  "t": 60
                },
                "template": {
                  "data": {
                    "bar": [
                      {
                        "error_x": {
                          "color": "#2a3f5f"
                        },
                        "error_y": {
                          "color": "#2a3f5f"
                        },
                        "marker": {
                          "line": {
                            "color": "#E5ECF6",
                            "width": 0.5
                          },
                          "pattern": {
                            "fillmode": "overlay",
                            "size": 10,
                            "solidity": 0.2
                          }
                        },
                        "type": "bar"
                      }
                    ],
                    "barpolar": [
                      {
                        "marker": {
                          "line": {
                            "color": "#E5ECF6",
                            "width": 0.5
                          },
                          "pattern": {
                            "fillmode": "overlay",
                            "size": 10,
                            "solidity": 0.2
                          }
                        },
                        "type": "barpolar"
                      }
                    ],
                    "carpet": [
                      {
                        "aaxis": {
                          "endlinecolor": "#2a3f5f",
                          "gridcolor": "white",
                          "linecolor": "white",
                          "minorgridcolor": "white",
                          "startlinecolor": "#2a3f5f"
                        },
                        "baxis": {
                          "endlinecolor": "#2a3f5f",
                          "gridcolor": "white",
                          "linecolor": "white",
                          "minorgridcolor": "white",
                          "startlinecolor": "#2a3f5f"
                        },
                        "type": "carpet"
                      }
                    ],
                    "choropleth": [
                      {
                        "colorbar": {
                          "outlinewidth": 0,
                          "ticks": ""
                        },
                        "type": "choropleth"
                      }
                    ],
                    "contour": [
                      {
                        "colorbar": {
                          "outlinewidth": 0,
                          "ticks": ""
                        },
                        "colorscale": [
                          [
                            0,
                            "#0d0887"
                          ],
                          [
                            0.1111111111111111,
                            "#46039f"
                          ],
                          [
                            0.2222222222222222,
                            "#7201a8"
                          ],
                          [
                            0.3333333333333333,
                            "#9c179e"
                          ],
                          [
                            0.4444444444444444,
                            "#bd3786"
                          ],
                          [
                            0.5555555555555556,
                            "#d8576b"
                          ],
                          [
                            0.6666666666666666,
                            "#ed7953"
                          ],
                          [
                            0.7777777777777778,
                            "#fb9f3a"
                          ],
                          [
                            0.8888888888888888,
                            "#fdca26"
                          ],
                          [
                            1,
                            "#f0f921"
                          ]
                        ],
                        "type": "contour"
                      }
                    ],
                    "contourcarpet": [
                      {
                        "colorbar": {
                          "outlinewidth": 0,
                          "ticks": ""
                        },
                        "type": "contourcarpet"
                      }
                    ],
                    "heatmap": [
                      {
                        "colorbar": {
                          "outlinewidth": 0,
                          "ticks": ""
                        },
                        "colorscale": [
                          [
                            0,
                            "#0d0887"
                          ],
                          [
                            0.1111111111111111,
                            "#46039f"
                          ],
                          [
                            0.2222222222222222,
                            "#7201a8"
                          ],
                          [
                            0.3333333333333333,
                            "#9c179e"
                          ],
                          [
                            0.4444444444444444,
                            "#bd3786"
                          ],
                          [
                            0.5555555555555556,
                            "#d8576b"
                          ],
                          [
                            0.6666666666666666,
                            "#ed7953"
                          ],
                          [
                            0.7777777777777778,
                            "#fb9f3a"
                          ],
                          [
                            0.8888888888888888,
                            "#fdca26"
                          ],
                          [
                            1,
                            "#f0f921"
                          ]
                        ],
                        "type": "heatmap"
                      }
                    ],
                    "heatmapgl": [
                      {
                        "colorbar": {
                          "outlinewidth": 0,
                          "ticks": ""
                        },
                        "colorscale": [
                          [
                            0,
                            "#0d0887"
                          ],
                          [
                            0.1111111111111111,
                            "#46039f"
                          ],
                          [
                            0.2222222222222222,
                            "#7201a8"
                          ],
                          [
                            0.3333333333333333,
                            "#9c179e"
                          ],
                          [
                            0.4444444444444444,
                            "#bd3786"
                          ],
                          [
                            0.5555555555555556,
                            "#d8576b"
                          ],
                          [
                            0.6666666666666666,
                            "#ed7953"
                          ],
                          [
                            0.7777777777777778,
                            "#fb9f3a"
                          ],
                          [
                            0.8888888888888888,
                            "#fdca26"
                          ],
                          [
                            1,
                            "#f0f921"
                          ]
                        ],
                        "type": "heatmapgl"
                      }
                    ],
                    "histogram": [
                      {
                        "marker": {
                          "pattern": {
                            "fillmode": "overlay",
                            "size": 10,
                            "solidity": 0.2
                          }
                        },
                        "type": "histogram"
                      }
                    ],
                    "histogram2d": [
                      {
                        "colorbar": {
                          "outlinewidth": 0,
                          "ticks": ""
                        },
                        "colorscale": [
                          [
                            0,
                            "#0d0887"
                          ],
                          [
                            0.1111111111111111,
                            "#46039f"
                          ],
                          [
                            0.2222222222222222,
                            "#7201a8"
                          ],
                          [
                            0.3333333333333333,
                            "#9c179e"
                          ],
                          [
                            0.4444444444444444,
                            "#bd3786"
                          ],
                          [
                            0.5555555555555556,
                            "#d8576b"
                          ],
                          [
                            0.6666666666666666,
                            "#ed7953"
                          ],
                          [
                            0.7777777777777778,
                            "#fb9f3a"
                          ],
                          [
                            0.8888888888888888,
                            "#fdca26"
                          ],
                          [
                            1,
                            "#f0f921"
                          ]
                        ],
                        "type": "histogram2d"
                      }
                    ],
                    "histogram2dcontour": [
                      {
                        "colorbar": {
                          "outlinewidth": 0,
                          "ticks": ""
                        },
                        "colorscale": [
                          [
                            0,
                            "#0d0887"
                          ],
                          [
                            0.1111111111111111,
                            "#46039f"
                          ],
                          [
                            0.2222222222222222,
                            "#7201a8"
                          ],
                          [
                            0.3333333333333333,
                            "#9c179e"
                          ],
                          [
                            0.4444444444444444,
                            "#bd3786"
                          ],
                          [
                            0.5555555555555556,
                            "#d8576b"
                          ],
                          [
                            0.6666666666666666,
                            "#ed7953"
                          ],
                          [
                            0.7777777777777778,
                            "#fb9f3a"
                          ],
                          [
                            0.8888888888888888,
                            "#fdca26"
                          ],
                          [
                            1,
                            "#f0f921"
                          ]
                        ],
                        "type": "histogram2dcontour"
                      }
                    ],
                    "mesh3d": [
                      {
                        "colorbar": {
                          "outlinewidth": 0,
                          "ticks": ""
                        },
                        "type": "mesh3d"
                      }
                    ],
                    "parcoords": [
                      {
                        "line": {
                          "colorbar": {
                            "outlinewidth": 0,
                            "ticks": ""
                          }
                        },
                        "type": "parcoords"
                      }
                    ],
                    "pie": [
                      {
                        "automargin": true,
                        "type": "pie"
                      }
                    ],
                    "scatter": [
                      {
                        "fillpattern": {
                          "fillmode": "overlay",
                          "size": 10,
                          "solidity": 0.2
                        },
                        "type": "scatter"
                      }
                    ],
                    "scatter3d": [
                      {
                        "line": {
                          "colorbar": {
                            "outlinewidth": 0,
                            "ticks": ""
                          }
                        },
                        "marker": {
                          "colorbar": {
                            "outlinewidth": 0,
                            "ticks": ""
                          }
                        },
                        "type": "scatter3d"
                      }
                    ],
                    "scattercarpet": [
                      {
                        "marker": {
                          "colorbar": {
                            "outlinewidth": 0,
                            "ticks": ""
                          }
                        },
                        "type": "scattercarpet"
                      }
                    ],
                    "scattergeo": [
                      {
                        "marker": {
                          "colorbar": {
                            "outlinewidth": 0,
                            "ticks": ""
                          }
                        },
                        "type": "scattergeo"
                      }
                    ],
                    "scattergl": [
                      {
                        "marker": {
                          "colorbar": {
                            "outlinewidth": 0,
                            "ticks": ""
                          }
                        },
                        "type": "scattergl"
                      }
                    ],
                    "scattermapbox": [
                      {
                        "marker": {
                          "colorbar": {
                            "outlinewidth": 0,
                            "ticks": ""
                          }
                        },
                        "type": "scattermapbox"
                      }
                    ],
                    "scatterpolar": [
                      {
                        "marker": {
                          "colorbar": {
                            "outlinewidth": 0,
                            "ticks": ""
                          }
                        },
                        "type": "scatterpolar"
                      }
                    ],
                    "scatterpolargl": [
                      {
                        "marker": {
                          "colorbar": {
                            "outlinewidth": 0,
                            "ticks": ""
                          }
                        },
                        "type": "scatterpolargl"
                      }
                    ],
                    "scatterternary": [
                      {
                        "marker": {
                          "colorbar": {
                            "outlinewidth": 0,
                            "ticks": ""
                          }
                        },
                        "type": "scatterternary"
                      }
                    ],
                    "surface": [
                      {
                        "colorbar": {
                          "outlinewidth": 0,
                          "ticks": ""
                        },
                        "colorscale": [
                          [
                            0,
                            "#0d0887"
                          ],
                          [
                            0.1111111111111111,
                            "#46039f"
                          ],
                          [
                            0.2222222222222222,
                            "#7201a8"
                          ],
                          [
                            0.3333333333333333,
                            "#9c179e"
                          ],
                          [
                            0.4444444444444444,
                            "#bd3786"
                          ],
                          [
                            0.5555555555555556,
                            "#d8576b"
                          ],
                          [
                            0.6666666666666666,
                            "#ed7953"
                          ],
                          [
                            0.7777777777777778,
                            "#fb9f3a"
                          ],
                          [
                            0.8888888888888888,
                            "#fdca26"
                          ],
                          [
                            1,
                            "#f0f921"
                          ]
                        ],
                        "type": "surface"
                      }
                    ],
                    "table": [
                      {
                        "cells": {
                          "fill": {
                            "color": "#EBF0F8"
                          },
                          "line": {
                            "color": "white"
                          }
                        },
                        "header": {
                          "fill": {
                            "color": "#C8D4E3"
                          },
                          "line": {
                            "color": "white"
                          }
                        },
                        "type": "table"
                      }
                    ]
                  },
                  "layout": {
                    "annotationdefaults": {
                      "arrowcolor": "#2a3f5f",
                      "arrowhead": 0,
                      "arrowwidth": 1
                    },
                    "autotypenumbers": "strict",
                    "coloraxis": {
                      "colorbar": {
                        "outlinewidth": 0,
                        "ticks": ""
                      }
                    },
                    "colorscale": {
                      "diverging": [
                        [
                          0,
                          "#8e0152"
                        ],
                        [
                          0.1,
                          "#c51b7d"
                        ],
                        [
                          0.2,
                          "#de77ae"
                        ],
                        [
                          0.3,
                          "#f1b6da"
                        ],
                        [
                          0.4,
                          "#fde0ef"
                        ],
                        [
                          0.5,
                          "#f7f7f7"
                        ],
                        [
                          0.6,
                          "#e6f5d0"
                        ],
                        [
                          0.7,
                          "#b8e186"
                        ],
                        [
                          0.8,
                          "#7fbc41"
                        ],
                        [
                          0.9,
                          "#4d9221"
                        ],
                        [
                          1,
                          "#276419"
                        ]
                      ],
                      "sequential": [
                        [
                          0,
                          "#0d0887"
                        ],
                        [
                          0.1111111111111111,
                          "#46039f"
                        ],
                        [
                          0.2222222222222222,
                          "#7201a8"
                        ],
                        [
                          0.3333333333333333,
                          "#9c179e"
                        ],
                        [
                          0.4444444444444444,
                          "#bd3786"
                        ],
                        [
                          0.5555555555555556,
                          "#d8576b"
                        ],
                        [
                          0.6666666666666666,
                          "#ed7953"
                        ],
                        [
                          0.7777777777777778,
                          "#fb9f3a"
                        ],
                        [
                          0.8888888888888888,
                          "#fdca26"
                        ],
                        [
                          1,
                          "#f0f921"
                        ]
                      ],
                      "sequentialminus": [
                        [
                          0,
                          "#0d0887"
                        ],
                        [
                          0.1111111111111111,
                          "#46039f"
                        ],
                        [
                          0.2222222222222222,
                          "#7201a8"
                        ],
                        [
                          0.3333333333333333,
                          "#9c179e"
                        ],
                        [
                          0.4444444444444444,
                          "#bd3786"
                        ],
                        [
                          0.5555555555555556,
                          "#d8576b"
                        ],
                        [
                          0.6666666666666666,
                          "#ed7953"
                        ],
                        [
                          0.7777777777777778,
                          "#fb9f3a"
                        ],
                        [
                          0.8888888888888888,
                          "#fdca26"
                        ],
                        [
                          1,
                          "#f0f921"
                        ]
                      ]
                    },
                    "colorway": [
                      "#636efa",
                      "#EF553B",
                      "#00cc96",
                      "#ab63fa",
                      "#FFA15A",
                      "#19d3f3",
                      "#FF6692",
                      "#B6E880",
                      "#FF97FF",
                      "#FECB52"
                    ],
                    "font": {
                      "color": "#2a3f5f"
                    },
                    "geo": {
                      "bgcolor": "white",
                      "lakecolor": "white",
                      "landcolor": "#E5ECF6",
                      "showlakes": true,
                      "showland": true,
                      "subunitcolor": "white"
                    },
                    "hoverlabel": {
                      "align": "left"
                    },
                    "hovermode": "closest",
                    "mapbox": {
                      "style": "light"
                    },
                    "paper_bgcolor": "white",
                    "plot_bgcolor": "#E5ECF6",
                    "polar": {
                      "angularaxis": {
                        "gridcolor": "white",
                        "linecolor": "white",
                        "ticks": ""
                      },
                      "bgcolor": "#E5ECF6",
                      "radialaxis": {
                        "gridcolor": "white",
                        "linecolor": "white",
                        "ticks": ""
                      }
                    },
                    "scene": {
                      "xaxis": {
                        "backgroundcolor": "#E5ECF6",
                        "gridcolor": "white",
                        "gridwidth": 2,
                        "linecolor": "white",
                        "showbackground": true,
                        "ticks": "",
                        "zerolinecolor": "white"
                      },
                      "yaxis": {
                        "backgroundcolor": "#E5ECF6",
                        "gridcolor": "white",
                        "gridwidth": 2,
                        "linecolor": "white",
                        "showbackground": true,
                        "ticks": "",
                        "zerolinecolor": "white"
                      },
                      "zaxis": {
                        "backgroundcolor": "#E5ECF6",
                        "gridcolor": "white",
                        "gridwidth": 2,
                        "linecolor": "white",
                        "showbackground": true,
                        "ticks": "",
                        "zerolinecolor": "white"
                      }
                    },
                    "shapedefaults": {
                      "line": {
                        "color": "#2a3f5f"
                      }
                    },
                    "ternary": {
                      "aaxis": {
                        "gridcolor": "white",
                        "linecolor": "white",
                        "ticks": ""
                      },
                      "baxis": {
                        "gridcolor": "white",
                        "linecolor": "white",
                        "ticks": ""
                      },
                      "bgcolor": "#E5ECF6",
                      "caxis": {
                        "gridcolor": "white",
                        "linecolor": "white",
                        "ticks": ""
                      }
                    },
                    "title": {
                      "x": 0.05
                    },
                    "xaxis": {
                      "automargin": true,
                      "gridcolor": "white",
                      "linecolor": "white",
                      "ticks": "",
                      "title": {
                        "standoff": 15
                      },
                      "zerolinecolor": "white",
                      "zerolinewidth": 2
                    },
                    "yaxis": {
                      "automargin": true,
                      "gridcolor": "white",
                      "linecolor": "white",
                      "ticks": "",
                      "title": {
                        "standoff": 15
                      },
                      "zerolinecolor": "white",
                      "zerolinewidth": 2
                    }
                  }
                },
                "width": 600,
                "xaxis": {
                  "anchor": "y",
                  "domain": [
                    0,
                    1
                  ],
                  "title": {
                    "text": "hour"
                  }
                },
                "yaxis": {
                  "anchor": "x",
                  "domain": [
                    0,
                    1
                  ],
                  "title": {
                    "text": "value"
                  }
                }
              }
            }
          },
          "metadata": {},
          "output_type": "display_data"
        }
      ],
      "source": [
        "\n",
        "fig = px.area(opt_vars[\"generation\"], x=\"hour\", y=\"value\", color=\"gen_types\")\n",
        "fig.update_traces(line=dict(width=0))\n",
        "\n",
        "fig.update_layout(width=600, height=400)"
      ]
    },
    {
      "cell_type": "code",
      "execution_count": 22,
      "metadata": {},
      "outputs": [
        {
          "data": {
            "application/vnd.plotly.v1+json": {
              "config": {
                "plotlyServerURL": "https://plot.ly"
              },
              "data": [
                {
                  "fillpattern": {
                    "shape": ""
                  },
                  "hovertemplate": "variable=dual<br>index=%{x}<br>value=%{y}<extra></extra>",
                  "legendgroup": "dual",
                  "line": {
                    "color": "#636efa",
                    "width": 0
                  },
                  "marker": {
                    "symbol": "circle"
                  },
                  "mode": "lines",
                  "name": "dual",
                  "orientation": "v",
                  "showlegend": true,
                  "stackgroup": "1",
                  "type": "scatter",
                  "x": [
                    3000,
                    3001,
                    3002,
                    3003,
                    3004,
                    3005,
                    3006,
                    3007,
                    3008,
                    3009,
                    3010,
                    3011,
                    3012,
                    3013,
                    3014,
                    3015,
                    3016,
                    3017,
                    3018,
                    3019,
                    3020,
                    3021,
                    3022,
                    3023,
                    3024,
                    3025,
                    3026,
                    3027,
                    3028,
                    3029,
                    3030,
                    3031,
                    3032,
                    3033,
                    3034,
                    3035,
                    3036,
                    3037,
                    3038,
                    3039,
                    3040,
                    3041,
                    3042,
                    3043,
                    3044,
                    3045,
                    3046,
                    3047,
                    3048,
                    3049,
                    3050,
                    3051,
                    3052,
                    3053,
                    3054,
                    3055,
                    3056,
                    3057,
                    3058,
                    3059,
                    3060,
                    3061,
                    3062,
                    3063,
                    3064,
                    3065,
                    3066,
                    3067,
                    3068,
                    3069,
                    3070,
                    3071,
                    3072,
                    3073,
                    3074,
                    3075,
                    3076,
                    3077,
                    3078,
                    3079,
                    3080,
                    3081,
                    3082,
                    3083,
                    3084,
                    3085,
                    3086,
                    3087,
                    3088,
                    3089,
                    3090,
                    3091,
                    3092,
                    3093,
                    3094,
                    3095,
                    3096,
                    3097,
                    3098,
                    3099,
                    3100,
                    3101,
                    3102,
                    3103,
                    3104,
                    3105,
                    3106,
                    3107,
                    3108,
                    3109,
                    3110,
                    3111,
                    3112,
                    3113,
                    3114,
                    3115,
                    3116,
                    3117,
                    3118,
                    3119,
                    3120,
                    3121,
                    3122,
                    3123,
                    3124,
                    3125,
                    3126,
                    3127,
                    3128,
                    3129,
                    3130,
                    3131,
                    3132,
                    3133,
                    3134,
                    3135,
                    3136,
                    3137,
                    3138,
                    3139,
                    3140,
                    3141,
                    3142,
                    3143,
                    3144,
                    3145,
                    3146,
                    3147,
                    3148,
                    3149,
                    3150,
                    3151,
                    3152,
                    3153,
                    3154,
                    3155,
                    3156,
                    3157,
                    3158,
                    3159,
                    3160,
                    3161,
                    3162,
                    3163,
                    3164,
                    3165,
                    3166,
                    3167,
                    3168,
                    3169,
                    3170,
                    3171,
                    3172,
                    3173,
                    3174,
                    3175,
                    3176,
                    3177,
                    3178,
                    3179,
                    3180,
                    3181,
                    3182,
                    3183,
                    3184,
                    3185,
                    3186,
                    3187,
                    3188,
                    3189,
                    3190,
                    3191,
                    3192,
                    3193,
                    3194,
                    3195,
                    3196,
                    3197,
                    3198,
                    3199,
                    3200,
                    3201,
                    3202,
                    3203,
                    3204,
                    3205,
                    3206,
                    3207,
                    3208,
                    3209,
                    3210,
                    3211,
                    3212,
                    3213,
                    3214,
                    3215,
                    3216,
                    3217,
                    3218,
                    3219,
                    3220,
                    3221,
                    3222,
                    3223,
                    3224,
                    3225,
                    3226,
                    3227,
                    3228,
                    3229,
                    3230,
                    3231,
                    3232,
                    3233,
                    3234,
                    3235,
                    3236,
                    3237,
                    3238,
                    3239,
                    3240,
                    3241,
                    3242,
                    3243,
                    3244,
                    3245,
                    3246,
                    3247,
                    3248,
                    3249,
                    3250,
                    3251,
                    3252,
                    3253,
                    3254,
                    3255,
                    3256,
                    3257,
                    3258,
                    3259,
                    3260,
                    3261,
                    3262,
                    3263,
                    3264,
                    3265,
                    3266,
                    3267,
                    3268,
                    3269,
                    3270,
                    3271,
                    3272,
                    3273,
                    3274,
                    3275,
                    3276,
                    3277,
                    3278,
                    3279,
                    3280,
                    3281,
                    3282,
                    3283,
                    3284,
                    3285,
                    3286,
                    3287,
                    3288
                  ],
                  "xaxis": "x",
                  "y": [
                    207,
                    207,
                    207,
                    207,
                    207,
                    207,
                    207,
                    207,
                    207,
                    207,
                    207,
                    207,
                    207,
                    207,
                    0,
                    207,
                    0,
                    0,
                    0,
                    0,
                    0,
                    0,
                    207,
                    207,
                    207,
                    207,
                    207,
                    207,
                    207,
                    207,
                    207,
                    207,
                    207,
                    207,
                    207,
                    207,
                    207,
                    207,
                    0,
                    0,
                    0,
                    0,
                    0,
                    0,
                    0,
                    207,
                    207,
                    207,
                    207,
                    207,
                    207,
                    207,
                    207,
                    207,
                    207,
                    207,
                    207,
                    207,
                    207,
                    207,
                    207,
                    207,
                    0,
                    0,
                    0,
                    0,
                    0,
                    0,
                    0,
                    207,
                    207,
                    207,
                    207,
                    207,
                    207,
                    207,
                    207,
                    207,
                    207,
                    207,
                    207,
                    207,
                    207,
                    207,
                    207,
                    207,
                    207,
                    0,
                    0,
                    0,
                    0,
                    0,
                    207,
                    207,
                    207,
                    207,
                    207,
                    207,
                    207,
                    207,
                    207,
                    207,
                    207,
                    207,
                    207,
                    207,
                    207,
                    207,
                    207,
                    207,
                    0,
                    0,
                    0,
                    0,
                    0,
                    0,
                    0,
                    207,
                    207,
                    207,
                    207,
                    207,
                    207,
                    207,
                    207,
                    207,
                    207,
                    207,
                    207,
                    207,
                    207,
                    207,
                    207,
                    0,
                    0,
                    0,
                    0,
                    0,
                    0,
                    0,
                    0,
                    0,
                    207,
                    207,
                    207,
                    207,
                    207,
                    207,
                    207,
                    207,
                    207,
                    207,
                    207,
                    207,
                    207,
                    207,
                    207,
                    207,
                    0,
                    0,
                    0,
                    0,
                    0,
                    0,
                    207,
                    207,
                    207,
                    207,
                    207,
                    207,
                    207,
                    207,
                    207,
                    207,
                    207,
                    207,
                    207,
                    207,
                    207,
                    207,
                    207,
                    207,
                    207,
                    207,
                    207,
                    0,
                    0,
                    0,
                    0,
                    207,
                    207,
                    207,
                    207,
                    207,
                    207,
                    207,
                    207,
                    207,
                    207,
                    207,
                    207,
                    207,
                    309,
                    207,
                    207,
                    207,
                    207,
                    207,
                    207,
                    207,
                    207,
                    207,
                    207,
                    207,
                    207,
                    207,
                    207,
                    207,
                    207,
                    207,
                    207,
                    207,
                    207,
                    207,
                    306.0526315789473,
                    309,
                    715,
                    309,
                    207,
                    207,
                    207,
                    207,
                    207,
                    207,
                    207,
                    207,
                    207,
                    207,
                    207,
                    207,
                    207,
                    207,
                    207,
                    207,
                    207,
                    207,
                    207,
                    309,
                    309,
                    309,
                    309,
                    207,
                    207,
                    207,
                    207,
                    207,
                    207,
                    0,
                    0,
                    0,
                    207,
                    207,
                    207,
                    207,
                    207,
                    207,
                    207,
                    207,
                    207,
                    207,
                    207,
                    207,
                    207,
                    207,
                    207,
                    207,
                    207,
                    207,
                    207,
                    207,
                    207,
                    207,
                    207,
                    207,
                    0,
                    207,
                    207,
                    207,
                    207
                  ],
                  "yaxis": "y"
                }
              ],
              "layout": {
                "height": 400,
                "legend": {
                  "title": {
                    "text": "variable"
                  },
                  "tracegroupgap": 0
                },
                "margin": {
                  "t": 60
                },
                "template": {
                  "data": {
                    "bar": [
                      {
                        "error_x": {
                          "color": "#2a3f5f"
                        },
                        "error_y": {
                          "color": "#2a3f5f"
                        },
                        "marker": {
                          "line": {
                            "color": "#E5ECF6",
                            "width": 0.5
                          },
                          "pattern": {
                            "fillmode": "overlay",
                            "size": 10,
                            "solidity": 0.2
                          }
                        },
                        "type": "bar"
                      }
                    ],
                    "barpolar": [
                      {
                        "marker": {
                          "line": {
                            "color": "#E5ECF6",
                            "width": 0.5
                          },
                          "pattern": {
                            "fillmode": "overlay",
                            "size": 10,
                            "solidity": 0.2
                          }
                        },
                        "type": "barpolar"
                      }
                    ],
                    "carpet": [
                      {
                        "aaxis": {
                          "endlinecolor": "#2a3f5f",
                          "gridcolor": "white",
                          "linecolor": "white",
                          "minorgridcolor": "white",
                          "startlinecolor": "#2a3f5f"
                        },
                        "baxis": {
                          "endlinecolor": "#2a3f5f",
                          "gridcolor": "white",
                          "linecolor": "white",
                          "minorgridcolor": "white",
                          "startlinecolor": "#2a3f5f"
                        },
                        "type": "carpet"
                      }
                    ],
                    "choropleth": [
                      {
                        "colorbar": {
                          "outlinewidth": 0,
                          "ticks": ""
                        },
                        "type": "choropleth"
                      }
                    ],
                    "contour": [
                      {
                        "colorbar": {
                          "outlinewidth": 0,
                          "ticks": ""
                        },
                        "colorscale": [
                          [
                            0,
                            "#0d0887"
                          ],
                          [
                            0.1111111111111111,
                            "#46039f"
                          ],
                          [
                            0.2222222222222222,
                            "#7201a8"
                          ],
                          [
                            0.3333333333333333,
                            "#9c179e"
                          ],
                          [
                            0.4444444444444444,
                            "#bd3786"
                          ],
                          [
                            0.5555555555555556,
                            "#d8576b"
                          ],
                          [
                            0.6666666666666666,
                            "#ed7953"
                          ],
                          [
                            0.7777777777777778,
                            "#fb9f3a"
                          ],
                          [
                            0.8888888888888888,
                            "#fdca26"
                          ],
                          [
                            1,
                            "#f0f921"
                          ]
                        ],
                        "type": "contour"
                      }
                    ],
                    "contourcarpet": [
                      {
                        "colorbar": {
                          "outlinewidth": 0,
                          "ticks": ""
                        },
                        "type": "contourcarpet"
                      }
                    ],
                    "heatmap": [
                      {
                        "colorbar": {
                          "outlinewidth": 0,
                          "ticks": ""
                        },
                        "colorscale": [
                          [
                            0,
                            "#0d0887"
                          ],
                          [
                            0.1111111111111111,
                            "#46039f"
                          ],
                          [
                            0.2222222222222222,
                            "#7201a8"
                          ],
                          [
                            0.3333333333333333,
                            "#9c179e"
                          ],
                          [
                            0.4444444444444444,
                            "#bd3786"
                          ],
                          [
                            0.5555555555555556,
                            "#d8576b"
                          ],
                          [
                            0.6666666666666666,
                            "#ed7953"
                          ],
                          [
                            0.7777777777777778,
                            "#fb9f3a"
                          ],
                          [
                            0.8888888888888888,
                            "#fdca26"
                          ],
                          [
                            1,
                            "#f0f921"
                          ]
                        ],
                        "type": "heatmap"
                      }
                    ],
                    "heatmapgl": [
                      {
                        "colorbar": {
                          "outlinewidth": 0,
                          "ticks": ""
                        },
                        "colorscale": [
                          [
                            0,
                            "#0d0887"
                          ],
                          [
                            0.1111111111111111,
                            "#46039f"
                          ],
                          [
                            0.2222222222222222,
                            "#7201a8"
                          ],
                          [
                            0.3333333333333333,
                            "#9c179e"
                          ],
                          [
                            0.4444444444444444,
                            "#bd3786"
                          ],
                          [
                            0.5555555555555556,
                            "#d8576b"
                          ],
                          [
                            0.6666666666666666,
                            "#ed7953"
                          ],
                          [
                            0.7777777777777778,
                            "#fb9f3a"
                          ],
                          [
                            0.8888888888888888,
                            "#fdca26"
                          ],
                          [
                            1,
                            "#f0f921"
                          ]
                        ],
                        "type": "heatmapgl"
                      }
                    ],
                    "histogram": [
                      {
                        "marker": {
                          "pattern": {
                            "fillmode": "overlay",
                            "size": 10,
                            "solidity": 0.2
                          }
                        },
                        "type": "histogram"
                      }
                    ],
                    "histogram2d": [
                      {
                        "colorbar": {
                          "outlinewidth": 0,
                          "ticks": ""
                        },
                        "colorscale": [
                          [
                            0,
                            "#0d0887"
                          ],
                          [
                            0.1111111111111111,
                            "#46039f"
                          ],
                          [
                            0.2222222222222222,
                            "#7201a8"
                          ],
                          [
                            0.3333333333333333,
                            "#9c179e"
                          ],
                          [
                            0.4444444444444444,
                            "#bd3786"
                          ],
                          [
                            0.5555555555555556,
                            "#d8576b"
                          ],
                          [
                            0.6666666666666666,
                            "#ed7953"
                          ],
                          [
                            0.7777777777777778,
                            "#fb9f3a"
                          ],
                          [
                            0.8888888888888888,
                            "#fdca26"
                          ],
                          [
                            1,
                            "#f0f921"
                          ]
                        ],
                        "type": "histogram2d"
                      }
                    ],
                    "histogram2dcontour": [
                      {
                        "colorbar": {
                          "outlinewidth": 0,
                          "ticks": ""
                        },
                        "colorscale": [
                          [
                            0,
                            "#0d0887"
                          ],
                          [
                            0.1111111111111111,
                            "#46039f"
                          ],
                          [
                            0.2222222222222222,
                            "#7201a8"
                          ],
                          [
                            0.3333333333333333,
                            "#9c179e"
                          ],
                          [
                            0.4444444444444444,
                            "#bd3786"
                          ],
                          [
                            0.5555555555555556,
                            "#d8576b"
                          ],
                          [
                            0.6666666666666666,
                            "#ed7953"
                          ],
                          [
                            0.7777777777777778,
                            "#fb9f3a"
                          ],
                          [
                            0.8888888888888888,
                            "#fdca26"
                          ],
                          [
                            1,
                            "#f0f921"
                          ]
                        ],
                        "type": "histogram2dcontour"
                      }
                    ],
                    "mesh3d": [
                      {
                        "colorbar": {
                          "outlinewidth": 0,
                          "ticks": ""
                        },
                        "type": "mesh3d"
                      }
                    ],
                    "parcoords": [
                      {
                        "line": {
                          "colorbar": {
                            "outlinewidth": 0,
                            "ticks": ""
                          }
                        },
                        "type": "parcoords"
                      }
                    ],
                    "pie": [
                      {
                        "automargin": true,
                        "type": "pie"
                      }
                    ],
                    "scatter": [
                      {
                        "fillpattern": {
                          "fillmode": "overlay",
                          "size": 10,
                          "solidity": 0.2
                        },
                        "type": "scatter"
                      }
                    ],
                    "scatter3d": [
                      {
                        "line": {
                          "colorbar": {
                            "outlinewidth": 0,
                            "ticks": ""
                          }
                        },
                        "marker": {
                          "colorbar": {
                            "outlinewidth": 0,
                            "ticks": ""
                          }
                        },
                        "type": "scatter3d"
                      }
                    ],
                    "scattercarpet": [
                      {
                        "marker": {
                          "colorbar": {
                            "outlinewidth": 0,
                            "ticks": ""
                          }
                        },
                        "type": "scattercarpet"
                      }
                    ],
                    "scattergeo": [
                      {
                        "marker": {
                          "colorbar": {
                            "outlinewidth": 0,
                            "ticks": ""
                          }
                        },
                        "type": "scattergeo"
                      }
                    ],
                    "scattergl": [
                      {
                        "marker": {
                          "colorbar": {
                            "outlinewidth": 0,
                            "ticks": ""
                          }
                        },
                        "type": "scattergl"
                      }
                    ],
                    "scattermapbox": [
                      {
                        "marker": {
                          "colorbar": {
                            "outlinewidth": 0,
                            "ticks": ""
                          }
                        },
                        "type": "scattermapbox"
                      }
                    ],
                    "scatterpolar": [
                      {
                        "marker": {
                          "colorbar": {
                            "outlinewidth": 0,
                            "ticks": ""
                          }
                        },
                        "type": "scatterpolar"
                      }
                    ],
                    "scatterpolargl": [
                      {
                        "marker": {
                          "colorbar": {
                            "outlinewidth": 0,
                            "ticks": ""
                          }
                        },
                        "type": "scatterpolargl"
                      }
                    ],
                    "scatterternary": [
                      {
                        "marker": {
                          "colorbar": {
                            "outlinewidth": 0,
                            "ticks": ""
                          }
                        },
                        "type": "scatterternary"
                      }
                    ],
                    "surface": [
                      {
                        "colorbar": {
                          "outlinewidth": 0,
                          "ticks": ""
                        },
                        "colorscale": [
                          [
                            0,
                            "#0d0887"
                          ],
                          [
                            0.1111111111111111,
                            "#46039f"
                          ],
                          [
                            0.2222222222222222,
                            "#7201a8"
                          ],
                          [
                            0.3333333333333333,
                            "#9c179e"
                          ],
                          [
                            0.4444444444444444,
                            "#bd3786"
                          ],
                          [
                            0.5555555555555556,
                            "#d8576b"
                          ],
                          [
                            0.6666666666666666,
                            "#ed7953"
                          ],
                          [
                            0.7777777777777778,
                            "#fb9f3a"
                          ],
                          [
                            0.8888888888888888,
                            "#fdca26"
                          ],
                          [
                            1,
                            "#f0f921"
                          ]
                        ],
                        "type": "surface"
                      }
                    ],
                    "table": [
                      {
                        "cells": {
                          "fill": {
                            "color": "#EBF0F8"
                          },
                          "line": {
                            "color": "white"
                          }
                        },
                        "header": {
                          "fill": {
                            "color": "#C8D4E3"
                          },
                          "line": {
                            "color": "white"
                          }
                        },
                        "type": "table"
                      }
                    ]
                  },
                  "layout": {
                    "annotationdefaults": {
                      "arrowcolor": "#2a3f5f",
                      "arrowhead": 0,
                      "arrowwidth": 1
                    },
                    "autotypenumbers": "strict",
                    "coloraxis": {
                      "colorbar": {
                        "outlinewidth": 0,
                        "ticks": ""
                      }
                    },
                    "colorscale": {
                      "diverging": [
                        [
                          0,
                          "#8e0152"
                        ],
                        [
                          0.1,
                          "#c51b7d"
                        ],
                        [
                          0.2,
                          "#de77ae"
                        ],
                        [
                          0.3,
                          "#f1b6da"
                        ],
                        [
                          0.4,
                          "#fde0ef"
                        ],
                        [
                          0.5,
                          "#f7f7f7"
                        ],
                        [
                          0.6,
                          "#e6f5d0"
                        ],
                        [
                          0.7,
                          "#b8e186"
                        ],
                        [
                          0.8,
                          "#7fbc41"
                        ],
                        [
                          0.9,
                          "#4d9221"
                        ],
                        [
                          1,
                          "#276419"
                        ]
                      ],
                      "sequential": [
                        [
                          0,
                          "#0d0887"
                        ],
                        [
                          0.1111111111111111,
                          "#46039f"
                        ],
                        [
                          0.2222222222222222,
                          "#7201a8"
                        ],
                        [
                          0.3333333333333333,
                          "#9c179e"
                        ],
                        [
                          0.4444444444444444,
                          "#bd3786"
                        ],
                        [
                          0.5555555555555556,
                          "#d8576b"
                        ],
                        [
                          0.6666666666666666,
                          "#ed7953"
                        ],
                        [
                          0.7777777777777778,
                          "#fb9f3a"
                        ],
                        [
                          0.8888888888888888,
                          "#fdca26"
                        ],
                        [
                          1,
                          "#f0f921"
                        ]
                      ],
                      "sequentialminus": [
                        [
                          0,
                          "#0d0887"
                        ],
                        [
                          0.1111111111111111,
                          "#46039f"
                        ],
                        [
                          0.2222222222222222,
                          "#7201a8"
                        ],
                        [
                          0.3333333333333333,
                          "#9c179e"
                        ],
                        [
                          0.4444444444444444,
                          "#bd3786"
                        ],
                        [
                          0.5555555555555556,
                          "#d8576b"
                        ],
                        [
                          0.6666666666666666,
                          "#ed7953"
                        ],
                        [
                          0.7777777777777778,
                          "#fb9f3a"
                        ],
                        [
                          0.8888888888888888,
                          "#fdca26"
                        ],
                        [
                          1,
                          "#f0f921"
                        ]
                      ]
                    },
                    "colorway": [
                      "#636efa",
                      "#EF553B",
                      "#00cc96",
                      "#ab63fa",
                      "#FFA15A",
                      "#19d3f3",
                      "#FF6692",
                      "#B6E880",
                      "#FF97FF",
                      "#FECB52"
                    ],
                    "font": {
                      "color": "#2a3f5f"
                    },
                    "geo": {
                      "bgcolor": "white",
                      "lakecolor": "white",
                      "landcolor": "#E5ECF6",
                      "showlakes": true,
                      "showland": true,
                      "subunitcolor": "white"
                    },
                    "hoverlabel": {
                      "align": "left"
                    },
                    "hovermode": "closest",
                    "mapbox": {
                      "style": "light"
                    },
                    "paper_bgcolor": "white",
                    "plot_bgcolor": "#E5ECF6",
                    "polar": {
                      "angularaxis": {
                        "gridcolor": "white",
                        "linecolor": "white",
                        "ticks": ""
                      },
                      "bgcolor": "#E5ECF6",
                      "radialaxis": {
                        "gridcolor": "white",
                        "linecolor": "white",
                        "ticks": ""
                      }
                    },
                    "scene": {
                      "xaxis": {
                        "backgroundcolor": "#E5ECF6",
                        "gridcolor": "white",
                        "gridwidth": 2,
                        "linecolor": "white",
                        "showbackground": true,
                        "ticks": "",
                        "zerolinecolor": "white"
                      },
                      "yaxis": {
                        "backgroundcolor": "#E5ECF6",
                        "gridcolor": "white",
                        "gridwidth": 2,
                        "linecolor": "white",
                        "showbackground": true,
                        "ticks": "",
                        "zerolinecolor": "white"
                      },
                      "zaxis": {
                        "backgroundcolor": "#E5ECF6",
                        "gridcolor": "white",
                        "gridwidth": 2,
                        "linecolor": "white",
                        "showbackground": true,
                        "ticks": "",
                        "zerolinecolor": "white"
                      }
                    },
                    "shapedefaults": {
                      "line": {
                        "color": "#2a3f5f"
                      }
                    },
                    "ternary": {
                      "aaxis": {
                        "gridcolor": "white",
                        "linecolor": "white",
                        "ticks": ""
                      },
                      "baxis": {
                        "gridcolor": "white",
                        "linecolor": "white",
                        "ticks": ""
                      },
                      "bgcolor": "#E5ECF6",
                      "caxis": {
                        "gridcolor": "white",
                        "linecolor": "white",
                        "ticks": ""
                      }
                    },
                    "title": {
                      "x": 0.05
                    },
                    "xaxis": {
                      "automargin": true,
                      "gridcolor": "white",
                      "linecolor": "white",
                      "ticks": "",
                      "title": {
                        "standoff": 15
                      },
                      "zerolinecolor": "white",
                      "zerolinewidth": 2
                    },
                    "yaxis": {
                      "automargin": true,
                      "gridcolor": "white",
                      "linecolor": "white",
                      "ticks": "",
                      "title": {
                        "standoff": 15
                      },
                      "zerolinecolor": "white",
                      "zerolinewidth": 2
                    }
                  }
                },
                "width": 600,
                "xaxis": {
                  "anchor": "y",
                  "domain": [
                    0,
                    1
                  ],
                  "title": {
                    "text": "index"
                  }
                },
                "yaxis": {
                  "anchor": "x",
                  "domain": [
                    0,
                    1
                  ],
                  "title": {
                    "text": "value"
                  }
                }
              }
            }
          },
          "metadata": {},
          "output_type": "display_data"
        }
      ],
      "source": [
        "fig = px.area(dual_dfs[\"balance_constraint\"][\"dual\"] ,)#color=\"gen_types\")\n",
        "fig.update_traces(line=dict(width=0))\n",
        "\n",
        "fig.update_layout(width=600, height=400)"
      ]
    },
    {
      "cell_type": "code",
      "execution_count": 23,
      "metadata": {},
      "outputs": [],
      "source": [
        "# optimal_capacities = opt_vars[\"capacity\"].set_index(\"gen_types\").to_dict()[\"value\"]\n",
        "# optimal_capacities = {'pv': 584261.407579273, 'coal': 54650.0, 'gas': 1018.0}"
      ]
    },
    {
      "cell_type": "markdown",
      "metadata": {},
      "source": []
    },
    {
      "cell_type": "markdown",
      "metadata": {},
      "source": [
        "## simple demand shift implementation\n",
        "\n",
        "1) capture timesteps with lowest price, and (iteratively) add demand to these timesteps\n",
        "2) added demand needs to be subtracted from adjacent timesteps\n",
        "3) this sounds like performing a moving average"
      ]
    },
    {
      "cell_type": "code",
      "execution_count": 24,
      "metadata": {},
      "outputs": [
        {
          "data": {
            "text/plain": [
              "<Axes: xlabel='t'>"
            ]
          },
          "execution_count": 24,
          "metadata": {},
          "output_type": "execute_result"
        },
        {
          "data": {
            "image/png": "[encoded data removed]",
            "text/plain": [
              "<Figure size 640x480 with 1 Axes>"
            ]
          },
          "metadata": {},
          "output_type": "display_data"
        }
      ],
      "source": [
        "import numpy as np\n",
        "import pandas as pd\n",
        "\n",
        "t = np.linspace(0,8*np.pi,96)\n",
        "dummy_prices = np.round(np.sin(t) + 1 ,1)\n",
        "dummy_demand = np.round(np.sin(t) + 1 ,1)\n",
        "\n",
        "df = pd.DataFrame({\"t\":range(len(t)), \"prices\":dummy_prices}).set_index(\"t\")\n",
        "df.plot()"
      ]
    },
    {
      "cell_type": "code",
      "execution_count": 25,
      "metadata": {},
      "outputs": [],
      "source": [
        "# 10 hour lookahead\n",
        "\n",
        "max_lookahead = 10\n",
        "\n",
        "for i,price in enumerate(dummy_prices):\n",
        "    for j in range(1, max_lookahead+1):\n",
        "        pass"
      ]
    },
    {
      "cell_type": "markdown",
      "metadata": {},
      "source": [
        "## household demand shift esm\n"
      ]
    },
    {
      "cell_type": "markdown",
      "metadata": {},
      "source": []
    }
  ],
  "metadata": {
    "colab": {
      "provenance": []
    },
    "kernelspec": {
      "display_name": "Python 3",
      "name": "python3"
    },
    "language_info": {
      "codemirror_mode": {
        "name": "ipython",
        "version": 3
      },
      "file_extension": ".py",
      "mimetype": "text/x-python",
      "name": "python",
      "nbconvert_exporter": "python",
      "pygments_lexer": "ipython3",
      "version": "3.10.13"
    }
  },
  "nbformat": 4,
  "nbformat_minor": 0
}
